{
 "cells": [
  {
   "cell_type": "markdown",
   "metadata": {},
   "source": [
    "# FIT/LOT Data Type\n",
    "\n",
    "Two methods of testing wellbores are used within the industry: FIT and leak-off test (LOT). The industry often confuses LOTs and FITs. But understanding the difference is important in appreciating the benefits of frequent dynamic FITs when drilling in trouble zones.\n",
    "#### FIT -> Formation Integrity Test\n",
    "\n",
    "A FIT is comparable to testing a pressure vessel to its rated operating pressure, which includes a safety factor and in which no damage to future pressure containment capability is expected. \n",
    "\n",
    "#### LOT -> Leak Off Test\n",
    "\n",
    "a LOT is comparable to testing a pressure vessel to leak, rupture, or become permanently deformed. The pressure is raised until the last casing shoe or formation is fractured as indicated by leak-off.\n",
    "\n",
    "\n",
    "\n",
    "As a Product Owner\n",
    "I want to be able to extract the FIT and LOT data from various End of Well Reports (EoWR) pertaining to all wells for a given asset\n",
    "So that I can create an organised table of curated data and visualise it in a dashboard / UI as appropriate."
   ]
  },
  {
   "cell_type": "code",
   "execution_count": 1,
   "metadata": {},
   "outputs": [],
   "source": [
    "from azure.core.credentials import AzureKeyCredential\n",
    "from azure.ai.formrecognizer import DocumentAnalysisClient\n",
    "import json\n",
    "import openai\n",
    "import os\n",
    "\n",
    "with open('../settings.json') as f:\n",
    "    data = json.load(f)\n",
    "\n",
    "# Set form recogniser client\n",
    "credential = AzureKeyCredential(data[\"FORM_KEY\"])\n",
    "document_analysis_client = DocumentAnalysisClient(data[\"FORM_ENDPOINT\"], credential)\n",
    "\n",
    "\n",
    "\n",
    "# This example also requires an OpenAI API key\n",
    "os.environ['OPENAI_API_KEY'] = data['OPENAI_API_KEY']\n",
    "openai.api_key = os.environ['OPENAI_API_KEY']"
   ]
  },
  {
   "cell_type": "code",
   "execution_count": 2,
   "metadata": {},
   "outputs": [],
   "source": [
    "from azure.ai.formrecognizer import FormRecognizerClient\n",
    "form_recognizer_client = FormRecognizerClient(data[\"FORM_ENDPOINT\"], credential)"
   ]
  },
  {
   "cell_type": "markdown",
   "metadata": {},
   "source": [
    "## Data Source\n",
    "\n",
    "EoWR "
   ]
  },
  {
   "cell_type": "code",
   "execution_count": 7,
   "metadata": {},
   "outputs": [],
   "source": [
    "path = \"../data/EoWR/206_12a-3 (SW Clair F1) Geological EOWR_Signed.pdf\""
   ]
  },
  {
   "cell_type": "code",
   "execution_count": 8,
   "metadata": {},
   "outputs": [],
   "source": [
    "# Analyze the document\n",
    "with open(path, \"rb\") as f:\n",
    "    poller = document_analysis_client.begin_analyze_document(\"prebuilt-document\", f)\n",
    "    result = poller.result()"
   ]
  },
  {
   "cell_type": "code",
   "execution_count": 9,
   "metadata": {},
   "outputs": [],
   "source": [
    "OCR_text = result.content"
   ]
  },
  {
   "cell_type": "code",
   "execution_count": 10,
   "metadata": {},
   "outputs": [
    {
     "data": {
      "text/plain": [
       "154909"
      ]
     },
     "execution_count": 10,
     "metadata": {},
     "output_type": "execute_result"
    }
   ],
   "source": [
    "len(OCR_text)"
   ]
  },
  {
   "cell_type": "code",
   "execution_count": 11,
   "metadata": {},
   "outputs": [
    {
     "data": {
      "text/plain": [
       "53594"
      ]
     },
     "execution_count": 11,
     "metadata": {},
     "output_type": "execute_result"
    }
   ],
   "source": [
    "import tiktoken\n",
    "\n",
    "enc = tiktoken.encoding_for_model(\"gpt-3.5-turbo\")\n",
    "len(enc.encode(OCR_text))"
   ]
  },
  {
   "cell_type": "markdown",
   "metadata": {},
   "source": [
    "# Text"
   ]
  },
  {
   "cell_type": "code",
   "execution_count": 12,
   "metadata": {},
   "outputs": [],
   "source": [
    "import pdfplumber\n",
    "\n",
    "with pdfplumber.open(path) as pdf:\n",
    "    page = pdf.pages[52].extract_text()\n",
    "    page += pdf.pages[53].extract_text()\n",
    "\n",
    "    # poller = document_analysis_client.begin_analyze_document(\"prebuilt-document\", page)\n",
    "    # page_result = poller.result()\n",
    "    "
   ]
  },
  {
   "cell_type": "code",
   "execution_count": 13,
   "metadata": {},
   "outputs": [
    {
     "name": "stdout",
     "output_type": "stream",
     "text": [
      "206/12a-3\n",
      "Geological End of Well Report\n",
      "10.3 LOT & FIT Plots\n",
      "Figure 15: 20” Shoe LOT at 536m TVD to 1.26sg EMW\n",
      "Formation Integrity Test\n",
      "Well Name : 206/12a-3 Rig : BYFORD DOLPHIN Test Conducted By : Date : 04th July 2011\n",
      "Mike Thorogood\n",
      "CASING MUD TEST TEST 400\n",
      "VOLUME PRESS. 390\n",
      "Size(in) WT.(sg) 0.6 62 380\n",
      "13 3/8 1.55 0.8 66 370 FIT at cement unit = 360psi\n",
      "WT.(ppf) YP(lb/100ft2) 1.0 74 360 Mud hydrostatic to drill floor = 32psi on the pump\n",
      "72 1.1 92 33 45 00 FIT pressure = 328psi\n",
      "Grade API WL.(cc) 1.2 123 330 FIT mud weight = 1.55sg\n",
      "L80(30min) 1.3 157 320\n",
      "Max.Allo. 1.4 200 310\n",
      "Press.(psi) Gel 0/10 1.5 241 300 FIT Achieved = 1.75sg\n",
      "Burst BBL 1 1. .6 7 2 37 29 0. .0 0 222 789 000 MWD Check )isp(\n",
      "Press.(psi) Pumped 1.80 342.0 260 MWD pressure Minimum = 2388psi 1.85 1.85 360.0 250 MWD pressure Maximum = 2732psi erusserp\n",
      "Test MD 1( ,m 14) RBB etL Time Pressure 222 234 000 S Pe ren ss so ur ed e ap pt ph i= 1 =12 31 4.5 4m iM oD 1 0 s9 ta6 t. i0 cm TVD\n",
      "9 urned r l ed ps ve r\n",
      "Test TVD(m) 1.85 210 **connection made with pumps off so some swab observed\n",
      "1,119 Elevation(Ft) 200 Pressure @ TD = 2783psi @ 1119m TVD = 1.747sg deilppA\n",
      "SHOE F Mr So Lm FR t)KB 111 789 000\n",
      "(\n",
      "Shoe MD(m) 160\n",
      "1,140 Water 150\n",
      "Shoe TVD(m)Depth(m) 140\n",
      "1,111 130\n",
      "120\n",
      "Pump FIT Result 110\n",
      "100\n",
      "Rate(bpm) FIT Result 90\n",
      "0.3Pressure 80\n",
      "Pressururized 328.0 70\n",
      "Dp/Ann/B Bo oth th?F EI MT Pr (e sgss ). 456 000\n",
      "W\n",
      "Liner Size(in) 1.756 30\n",
      "20\n",
      "10\n",
      "0\n",
      "LOT Result Calculation Formula 0.0 0.2 0.4 0.6 0.8 1.0 1.2 1.4 1.6 1.8 2.0\n",
      "EMW =MW + (P-FIT / (TVD-shoe * 1.421))\n",
      "= 1.55 + 0.21 Volume Pumped (bbls) Minutes\n",
      "= 1.756 (sg)\n",
      "Figure 16: 13-3/8” FIT at 1119m TVD to 1.75sg EMW\n",
      "At the 9-5/8” shoe, the first attempted LOT was performed at 1816m TVD to a pressure of\n",
      "965psi, 1.694sg EMW. The linear relationship suggested that an FIT had been performed\n",
      "however, decline from 1230psi to 960psi probably indicated that the formation had been\n",
      "broken down. A second test was carried out.\n",
      "SW Clair 206/12a-3 Geological End of Well Report Page 53206/12a-3\n",
      "Geological End of Well Report\n",
      "Formation Integrity Test\n",
      "Well Name : 206/12a-3 Rig : BYFORD DOLPHIN Test Conducted By : Date : 12th July 2011\n",
      "Gordon Wood\n",
      "CASING MUD TEST TEST 1,500 FIT pressure = 965psi\n",
      "VOLUME PRESS.\n",
      "Size(in) WT.(sg) 1.0 197 FIT mud weight = 1.32sg\n",
      "9 5/8 1.32 1.2 250 1,400\n",
      "WT.(ppf) YP(lb/100ft2) 1.4 370 FIT Achieved = 1.694sg\n",
      "53.5 1.6 435 1,300\n",
      "Grade API WL.(cc) 1.8 571 MWD Check - not valid due to first FIT attempt to\n",
      "L80(30min) 2.0 636 1,200\n",
      "Max.Allo. 2.2 777 1.80sg\n",
      "Press.(psi) Gel 0/10 2.4 846 1,100 MWD pressure Minimum = psi\n",
      "2.6 976.0 MWD pressure Maximum = psi Burst BBL 2.7 1043.0 Sensor depth = m MD m TVD )isp(\n",
      "Press.(psi) Pumped 2.9 1108.0 1,000 Pressure applied = psi over static\n",
      "7930 2.00 3.0 1178.0 **connection made with pumps off so some swab observed erusserp\n",
      "Test MD(m) BBL 3.1 1196.0 900\n",
      "2,081Returned 3.1 1098.0\n",
      "Test TVD(m) 1.90 3.1 935 800\n",
      "1,816Elevation(m) 3.1 921 deilppA\n",
      "SHOE From RKB Time Pressure 700\n",
      "MSL(m)\n",
      "Shoe MD(m) 25.3 600\n",
      "2,068Water\n",
      "Shoe TVD(m)Depth(m)\n",
      "1,803 151.3 500\n",
      "Pump FIT Result 400\n",
      "Rate(bpm) FIT Result\n",
      "0.25Pressure 300\n",
      "Pressururized 965.0\n",
      "Dp/Ann/Both?FIT Press. 200\n",
      "BothEMW(sg)\n",
      "Liner Size(in) 1.694 100\n",
      "6\"\n",
      "0\n",
      "LOT Result Calculation Formula 0.0 0.2 0.4 0.6 0.8 1.0 1.2 1.4 1.6 1.8 2.0 2.2 2.4 2.6 2.8 3.0 3.2 3.4 3.6 3.8 4.0\n",
      "EMW =MW + (P-FIT / (TVD-shoe * 1.421))\n",
      "= 1.32 + 0.37 Volume Pumped (bbls) Minutes\n",
      "= 1.694 (sg)\n",
      "Figure 17: First 9-5/8” LOT at 1816m TVD\n",
      "A second LOT was performed at the 9-5/8” shoe at 1816m TVD to a pressure of 965psi,\n",
      "1.694sg EMW. Pressure break at 965psi confirmed fracture pressure from the first LOT as\n",
      "965psi. A possible interpretation for the lack of plastic failure observed on the initial pressure\n",
      "build is that the failure is due to a fault breccia zone which exhibits immediate failure along\n",
      "vertical fractures.\n",
      "Formation Integrity Test\n",
      "Well Name : 206/12a-3 Rig : BYFORD DOLPHIN Test Conducted By : Date : 12th July 2011\n",
      "Gordon Wood\n",
      "CASING MUD TEST TEST 1,500 FIT pressure = 965psi\n",
      "VOLUME PRESS.\n",
      "Size(in) WT.(sg) 0.0 FIT mud weight = 1.32sg\n",
      "9 5/8 1.32 0.2 130 1,400\n",
      "WT.(ppf) YP(lb/100ft2) 0.4 196 FIT Achieved = 1.694sg\n",
      "53.5 0.6 278 1,300\n",
      "Grade API WL.(cc) 0.8 372 MWD Check - not valid due to first FIT attempt to\n",
      "L80(30min) 1.0 474 1,200\n",
      "Max.Allo. 1.2 575 1.80sg\n",
      "Press.(psi) Gel 0/10 1 1. .4 6 76 88 82 .0 1,100 M MW WD D p pr re es ss su ur re e M Mi an xim imu um m = = p ps si i Burst BBL 1.8 888.0 Sensor depth = m MD m TVD )isp(\n",
      "Press.(psi) Pumped 1.9 955.0 1,000 Pressure applied = psi over static\n",
      "7930 2.00 2.00 965.0 **connection made with pumps off so some swab observed erusserp\n",
      "Test MD(m) BBL Time Pressure 900\n",
      "2,081 Returned\n",
      "Test TVD(m) 1.90 800\n",
      "1,816 Elevation(m) deilppA\n",
      "SHOE From RKB 700\n",
      "MSL(m)\n",
      "Shoe MD(m) 25.3 600\n",
      "2,068 Water\n",
      "Shoe TVD(m)Depth(m)\n",
      "1,803 151.3 500\n",
      "Pump FIT Result 400\n",
      "Rate(bpm) FIT Result\n",
      "0.25Pressure 300\n",
      "Pressururized 965.0\n",
      "Dp/Ann/Both?FIT Press. 200\n",
      "BothEMW(sg)\n",
      "Liner Size(in) 1.694 100\n",
      "6\"\n",
      "0\n",
      "LOT Result Calculation Formula 0.0 0.2 0.4 0.6 0.8 1.0 1.2 1.4 1.6 1.8 2.0 2.2 2.4\n",
      "EMW =MW + (P-FIT / (TVD-shoe * 1.421))\n",
      "= 1.32 + 0.37 Volume Pumped (bbls) Minutes\n",
      "= 1.694 (sg)\n",
      "Figure 18: Second LOT at 9-5/8” Shoe, 1816m TVD to 1.694sg EMW\n",
      "SW Clair 206/12a-3 Geological End of Well Report Page 54\n"
     ]
    }
   ],
   "source": [
    "print(page)"
   ]
  },
  {
   "cell_type": "code",
   "execution_count": 14,
   "metadata": {},
   "outputs": [],
   "source": [
    "input = page\n",
    "\n",
    "json_template = json.dumps({ \n",
    "    \"FIT\": \"<Formation Integrity Test Value in sg>\",\n",
    "    \"LOT\": \"<Leak Off Test Value in sg>\"\n",
    "})\n",
    "\n",
    "system = f\"\"\"\n",
    "You are an API that given a text extracted using OCR from an End of Well Report will reply with the JSON {json_template}\n",
    "If there is a field that you can not find, set it a null.\n",
    "If the document has any kind of errors or is corrupted, add a field {{\"errors\": \"<error description>\"}}\n",
    "If there is any additional information of feedback from the infromation extraction, add a {{\"notes\": \"<additional-information>\"}}\n",
    "\n",
    "The format of your input will be the text of the relevant page.\n",
    "\"\"\"\n",
    "\n",
    "config = {\n",
    "    \"temperature\": 0.2,\n",
    "    \"max_tokens\": 512,\n",
    "    \"top_p\": 1,\n",
    "}\n"
   ]
  },
  {
   "cell_type": "code",
   "execution_count": 15,
   "metadata": {},
   "outputs": [],
   "source": [
    "response = openai.ChatCompletion.create(\n",
    "    model=\"gpt-3.5-turbo\",\n",
    "    messages=[\n",
    "      {\"role\": \"system\", \"content\": system},\n",
    "      {\"role\": \"user\", \"content\": input},\n",
    "    ],\n",
    "    temperature=config[\"temperature\"],\n",
    "    max_tokens=config[\"max_tokens\"],\n",
    "    top_p=config[\"top_p\"],\n",
    "  )"
   ]
  },
  {
   "cell_type": "code",
   "execution_count": 16,
   "metadata": {},
   "outputs": [
    {
     "data": {
      "text/plain": [
       "{'FIT': '1.26', 'LOT': '1.694'}"
      ]
     },
     "execution_count": 16,
     "metadata": {},
     "output_type": "execute_result"
    }
   ],
   "source": [
    "gpt_dict = json.loads(response.get(\"choices\")[0][\"message\"][\"content\"])\n",
    "gpt_dict"
   ]
  },
  {
   "cell_type": "markdown",
   "metadata": {},
   "source": [
    "## Open list approach"
   ]
  },
  {
   "cell_type": "code",
   "execution_count": 17,
   "metadata": {},
   "outputs": [],
   "source": [
    "input = page\n",
    "\n",
    "json_template = json.dumps({ \n",
    "    \"Test Type\": \"<FIT or LOT>\",\n",
    "    \"Casing Shoe\": \"<Casing shoe size>\",\n",
    "    \"TVD (m)\": \"TVD in meters\",\n",
    "    \"Surface pressure (psi)\": \"<MW value in sg>\",\n",
    "    \"MW (sg)\": \"<MW value in sg>\",\n",
    "    \"EMW (sg)\": \"<EMW value in sg>\"\n",
    "})\n",
    "\n",
    "system = f\"\"\"\n",
    "You are an API that given a text extracted using OCR from an End of Well Report will extract Formation Integrity Test (FIT) and Leak Off Test (LOT) results.\n",
    "Your response will be a JSON with as many entries as needed in the format {json_template}\n",
    "If there is a field that you can not find, set it a null.\n",
    "If the document has any kind of errors or is corrupted, add a field {{\"errors\": \"<error description>\"}}\n",
    "If there is any additional information of feedback from the infromation extraction, add a {{\"notes\": \"<additional-information>\"}}\n",
    "\n",
    "The format of your input will be the text of the relevant page.\n",
    "\"\"\"\n",
    "\n",
    "config = {\n",
    "    \"temperature\": 0.2,\n",
    "    \"max_tokens\": 512,\n",
    "    \"top_p\": 1,\n",
    "}\n",
    "\n",
    "response = openai.ChatCompletion.create(\n",
    "    model=\"gpt-3.5-turbo\",\n",
    "    messages=[\n",
    "      {\"role\": \"system\", \"content\": system},\n",
    "      {\"role\": \"user\", \"content\": input},\n",
    "    ],\n",
    "    temperature=config[\"temperature\"],\n",
    "    max_tokens=config[\"max_tokens\"],\n",
    "    top_p=config[\"top_p\"],\n",
    "  )"
   ]
  },
  {
   "cell_type": "code",
   "execution_count": 18,
   "metadata": {},
   "outputs": [
    {
     "name": "stdout",
     "output_type": "stream",
     "text": [
      "{\"Test Type\": \"FIT\", \"Casing Shoe\": \"20\\\"\", \"TVD (m)\": \"536\", \"Surface pressure (psi)\": \"360\", \"MW (sg)\": \"1.55\", \"EMW (sg)\": \"1.26\"}\n",
      "{\"Test Type\": \"LOT\", \"Casing Shoe\": \"9-5/8\\\"\", \"TVD (m)\": \"1816\", \"Surface pressure (psi)\": \"965\", \"MW (sg)\": \"1.694\", \"EMW (sg)\": \"1.694\"}\n",
      "{\"Test Type\": \"FIT\", \"Casing Shoe\": \"9-5/8\\\"\", \"TVD (m)\": \"1119\", \"Surface pressure (psi)\": \"965\", \"MW (sg)\": \"1.32\", \"EMW (sg)\": \"1.75\"}\n"
     ]
    }
   ],
   "source": [
    "print(response.get(\"choices\")[0][\"message\"][\"content\"])"
   ]
  },
  {
   "cell_type": "markdown",
   "metadata": {},
   "source": [
    "# Tables"
   ]
  },
  {
   "cell_type": "code",
   "execution_count": 19,
   "metadata": {},
   "outputs": [],
   "source": [
    "import pdfplumber\n",
    "\n",
    "with pdfplumber.open(path) as pdf:\n",
    "    table = pdf.pages[52].extract_tables()"
   ]
  },
  {
   "cell_type": "code",
   "execution_count": 20,
   "metadata": {},
   "outputs": [
    {
     "data": {
      "text/plain": [
       "[[['Formation Integrity Test',\n",
       "   None,\n",
       "   None,\n",
       "   None,\n",
       "   None,\n",
       "   None,\n",
       "   None,\n",
       "   None,\n",
       "   None,\n",
       "   None],\n",
       "  ['Well Name : 206/12a-3',\n",
       "   None,\n",
       "   None,\n",
       "   'Rig : BYFORD DOLPHIN',\n",
       "   None,\n",
       "   'Test Conducted By :\\nMike Thorogood',\n",
       "   'Date : 04th July 2011',\n",
       "   None,\n",
       "   None,\n",
       "   None],\n",
       "  ['CASING MUD TEST TEST 400\\nVOLUME PRESS. 390\\nSize(in) WT.(sg) 0.6 62 380\\n13 3/8 1.55 0.8 66 370 FIT at cement unit = 360psi\\nWT.(ppf) YP(lb/100ft2) 1.0 74 360 Mud hydrostatic to drill floor = 32psi on the pump\\n72 1.1 92 33 45 00 FIT pressure = 328psi\\nGrade API WL.(cc) 1.2 123 330 FIT mud weight = 1.55sg\\nL80(30min) 1.3 157 320\\nMax.Allo. 1.4 200 310\\nPress.(psi) Gel 0/10 1.5 241 300 FIT Achieved = 1.75sg\\nBurst BBL 1 1. .6 7 2 37 29 0. .0 0 222 789 000 MWD Check )isp(\\nPress.(psi) Pumped 1.80 342.0 260 MWD pressure Minimum = 2388psi 1.85 1.85 360.0 250 MWD pressure Maximum = 2732psi erusserp\\nTest MD 1( ,m 14) RBB etL Time Pressure 222 234 000 S Pe ren ss so ur ed e ap pt ph i= 1 =12 31 4.5 4m iM oD 1 0 s9 ta6 t. i0 cm TVD\\n9 urned r l ed ps ve r\\nTest TVD(m) 1.85 210 **connection made with pumps off so some swab observed\\n1,119 Elevation(Ft) 200 Pressure @ TD = 2783psi @ 1119m TVD = 1.747sg deilppA\\nSHOE F Mr So Lm FR t)KB 111 789 000\\n(\\nShoe MD(m) 160\\n1,140 Water 150\\nShoe TVD(m)Depth(m) 140\\n1,111 130\\n120\\nPump FIT Result 110\\n100\\nRate(bpm) FIT Result 90\\n0.3Pressure 80\\nPressururized 328.0 70\\nDp/Ann/B Bo oth th?F EI MT Pr (e sgss ). 456 000\\nW\\nLiner Size(in) 1.756 30\\n20\\n10\\n0\\nLOT Result Calculation Formula 0.0 0.2 0.4 0.6 0.8 1.0 1.2 1.4 1.6 1.8 2.0\\nEMW =MW + (P-FIT / (TVD-shoe * 1.421))\\n= 1.55 + 0.21 Volume Pumped (bbls)',\n",
       "   None,\n",
       "   None,\n",
       "   None,\n",
       "   None,\n",
       "   None,\n",
       "   None,\n",
       "   None,\n",
       "   None,\n",
       "   None],\n",
       "  [None,\n",
       "   None,\n",
       "   None,\n",
       "   None,\n",
       "   '400\\n390\\n380\\n370 FIT at cement unit = 360psi\\n360 Mud hydrostatic to drill floor = 32psi on the pump\\n33 45 00 FIT pressure = 328psi\\n330 FIT mud weight = 1.55sg\\n320\\n310\\n300 FIT Achieved = 1.75sg\\n290\\n280 )isp(\\n270 MWD Check\\n260 MWD pressure Minimum = 2388psi 250 MWD pressure Maximum = 2732psi erusserp\\n22 34 00 Sensor depth = 1121.5m MD 1096.0m TVD\\n220 Pressure applied = 344psi over static\\n210 **connection made with pumps off so some swab observed\\n200 Pressure @ TD = 2783psi @ 1119m TVD = 1.747sg deilppA\\n190\\n180\\n170\\n160\\n150\\n140\\n130\\n120\\n110\\n100\\n90\\n80\\n70\\n60\\n50\\n40\\n30\\n20\\n10\\n0\\n0.0 0.2 0.4 0.6 0.8 1.0 1.2 1.4 1.6 1.8 2.0\\nVolume Pumped (bbls)',\n",
       "   None,\n",
       "   None,\n",
       "   None,\n",
       "   None,\n",
       "   None],\n",
       "  ['LOT Result Calculation Formula\\nEMW =MW + (P-FIT / (TVD-shoe * 1.421))\\n= 1.55 + 0.21',\n",
       "   None,\n",
       "   None,\n",
       "   None,\n",
       "   None,\n",
       "   None,\n",
       "   None,\n",
       "   None,\n",
       "   None,\n",
       "   None],\n",
       "  [None, None, None, None, None, None, None, '', None, None],\n",
       "  ['=', '1.756', '(sg)', '', '', None, None, 'Minutes', '', ''],\n",
       "  ['', None, None, '', None, None, None, None, None, None]],\n",
       " [['CASING\\nSize(in)',\n",
       "   'MUD\\nWT.(sg)',\n",
       "   'TEST\\nVOLUME\\n0.6',\n",
       "   'TEST\\nPRESS.\\n62'],\n",
       "  ['13 3/8\\nWT.(ppf)\\n72', '1.55\\nYP(lb/100ft2)', '0.8\\n1.0', '66\\n74'],\n",
       "  [None, None, '1.1', '92'],\n",
       "  ['Grade\\nL80', 'API WL.(cc)\\n(30min)', '1.2', '123'],\n",
       "  [None, None, '1.3', '157'],\n",
       "  ['Max.Allo.\\nPress.(psi)', 'Gel 0/10', '1.4\\n1.5', '200\\n241'],\n",
       "  [None, None, '1.6', '279.0'],\n",
       "  ['Burst\\nPress.(psi)', 'BBL\\nPumped\\n1.85', '1.7\\n1.80', '320.0\\n342.0'],\n",
       "  [None, None, '1.85', '360.0'],\n",
       "  ['Test MD(m)\\n1,149', 'BBL\\nReturned\\n1.85', 'Time', 'Pressure'],\n",
       "  ['Test TVD(m)\\n1,119', None, '', ''],\n",
       "  [None, 'Elevation(Ft)\\nFrom RKB', '', ''],\n",
       "  ['SHOE', 'MSL(Ft)', '', ''],\n",
       "  ['Shoe MD(m)', None, '', ''],\n",
       "  ['1,140\\nShoe TVD(m)\\n1,111', 'Water\\nDepth(m)', '', ''],\n",
       "  [None, None, '', ''],\n",
       "  ['Pump', 'FIT Result', '', ''],\n",
       "  [None, None, '', ''],\n",
       "  ['Rate(bpm)\\n0.3', 'FIT Result\\nPressure', '', ''],\n",
       "  ['Pressururized\\nDp/Ann/Both?\\nBoth',\n",
       "   '328.0\\nFIT Press.\\nEMW(sg)\\n1.756',\n",
       "   '',\n",
       "   ''],\n",
       "  [None, None, '', ''],\n",
       "  ['Liner Size(in)', None, '', ''],\n",
       "  [None, '', '', '']],\n",
       " [['', None, '', '', '', '', '', '', '', '', ''],\n",
       "  ['',\n",
       "   'FIT at cem\\nMud hydr',\n",
       "   'ent unit =\\nostatic to d',\n",
       "   '360psi\\nrill floor = 3',\n",
       "   '2psi on the',\n",
       "   'pump',\n",
       "   '',\n",
       "   '',\n",
       "   '',\n",
       "   '',\n",
       "   ''],\n",
       "  ['', 'FIT press', 'ure = 328ps', 'i', '', '', '', '', '', '', ''],\n",
       "  ['', 'FIT mud', 'weight = 1.5', '5sg', '', '', '', '', '', '', ''],\n",
       "  ['', '', '', '', '', '', '', '', '', '', ''],\n",
       "  ['', 'FIT Achi', 'eved = 1.7', '5sg', '', '', '', '', '', '', ''],\n",
       "  ['', '', '', '', '', '', '', '', '', '', ''],\n",
       "  ['',\n",
       "   'MWD Ch\\nMWD pres',\n",
       "   'eck\\nsure Minimu',\n",
       "   'm = 2388ps',\n",
       "   'i',\n",
       "   '',\n",
       "   '',\n",
       "   '',\n",
       "   '',\n",
       "   '',\n",
       "   ''],\n",
       "  ['', 'MWD pres', 'sure Maxim', 'um = 2732ps', 'i', '', '', '', '', '', ''],\n",
       "  ['',\n",
       "   'Sensor de\\nPressure a',\n",
       "   'pth = 1121.5\\npplied = 344',\n",
       "   'm MD 1096.\\npsi over stati',\n",
       "   '0m TVD\\nc',\n",
       "   '',\n",
       "   '',\n",
       "   '',\n",
       "   '',\n",
       "   '',\n",
       "   ''],\n",
       "  ['',\n",
       "   '**connect',\n",
       "   'ion made wit',\n",
       "   'h pumps off',\n",
       "   'so some sw',\n",
       "   'ab observed',\n",
       "   '',\n",
       "   '',\n",
       "   '',\n",
       "   '',\n",
       "   ''],\n",
       "  ['',\n",
       "   'Pressure @',\n",
       "   'TD = 2783p',\n",
       "   'si @ 1119m',\n",
       "   'TVD = 1.747',\n",
       "   'sg',\n",
       "   '',\n",
       "   '',\n",
       "   '',\n",
       "   '',\n",
       "   ''],\n",
       "  ['', None, '', '', '', '', '', '', '', '', ''],\n",
       "  ['', None, '', '', '', '', '', '', '', '', ''],\n",
       "  ['', None, '', '', '', '', '', '', '', '', ''],\n",
       "  ['', None, '', '', '', '', '', '', '', '', ''],\n",
       "  ['', None, '', '', '', '', '', '', '', '', ''],\n",
       "  ['', None, '', '', '', '', '', '', '', '', ''],\n",
       "  ['', None, '', '', '', '', '', '', '', '', ''],\n",
       "  ['', None, '', '', '', '', '', '', '', '', ''],\n",
       "  ['', None, '', '', '', '', '', '', '', '', ''],\n",
       "  ['', None, '', '', '', '', '', '', '', '', ''],\n",
       "  ['', None, '', '', '', '', '', '', '', '', '']]]"
      ]
     },
     "execution_count": 20,
     "metadata": {},
     "output_type": "execute_result"
    }
   ],
   "source": [
    "table"
   ]
  },
  {
   "cell_type": "code",
   "execution_count": 21,
   "metadata": {},
   "outputs": [],
   "source": [
    "input = str(table)\n",
    "\n",
    "json_template = json.dumps({ \n",
    "    \"Test Type\": \"<FIT or LOT>\",\n",
    "    \"Casing Shoe\": \"<Casing shoe size>\",\n",
    "    \"TVD (m)\": \"TVD in meters\",\n",
    "    \"Surface pressure (psi)\": \"<MW value in sg>\",\n",
    "    \"MW (sg)\": \"<MW value in sg>\",\n",
    "    \"EMW (sg)\": \"<EMW value in sg>\"\n",
    "})\n",
    "\n",
    "system = f\"\"\"\n",
    "You are an API that given a text extracted using OCR from an End of Well Report will extract Formation Integrity Test (FIT) and Leak Off Test (LOT) results.\n",
    "Your response will be a JSON with as many entries as needed in the format {json_template}\n",
    "If there is a field that you can not find, set it a null.\n",
    "If the document has any kind of errors or is corrupted, add a field {{\"errors\": \"<error description>\"}}\n",
    "If there is any additional information of feedback from the infromation extraction, add a {{\"notes\": \"<additional-information>\"}}\n",
    "\n",
    "The format of your input will be the text of the relevant page.\n",
    "\"\"\"\n",
    "\n",
    "config = {\n",
    "    \"temperature\": 0.2,\n",
    "    \"max_tokens\": 512,\n",
    "    \"top_p\": 1,\n",
    "}\n",
    "\n",
    "response = openai.ChatCompletion.create(\n",
    "    model=\"gpt-3.5-turbo\",\n",
    "    messages=[\n",
    "      {\"role\": \"system\", \"content\": system},\n",
    "      {\"role\": \"user\", \"content\": input},\n",
    "    ],\n",
    "    temperature=config[\"temperature\"],\n",
    "    max_tokens=config[\"max_tokens\"],\n",
    "    top_p=config[\"top_p\"],\n",
    "  )"
   ]
  },
  {
   "cell_type": "code",
   "execution_count": 22,
   "metadata": {},
   "outputs": [
    {
     "name": "stdout",
     "output_type": "stream",
     "text": [
      "{\"Test Type\": \"FIT\", \"Casing Shoe\": \"13 3/8\", \"TVD (m)\": \"1,119\", \"Surface pressure (psi)\": \"328\", \"MW (sg)\": \"1.55\", \"EMW (sg)\": \"1.756\"}\n",
      "{\"Test Type\": \"LOT\", \"Casing Shoe\": null, \"TVD (m)\": \"1,111\", \"Surface pressure (psi)\": null, \"MW (sg)\": null, \"EMW (sg)\": null}\n"
     ]
    }
   ],
   "source": [
    "print(response.get(\"choices\")[0][\"message\"][\"content\"])"
   ]
  },
  {
   "cell_type": "markdown",
   "metadata": {},
   "source": [
    "# Form recogniser"
   ]
  },
  {
   "cell_type": "code",
   "execution_count": 23,
   "metadata": {},
   "outputs": [],
   "source": [
    "import io\n",
    "\n",
    "# OCR from base form recogniser\n",
    "def base_form_recogniser(pdf_bytes: io.BytesIO) -> dict:\n",
    "    document = pdf_bytes.getvalue()\n",
    "\n",
    "    # Start the document analysis\n",
    "    poller = document_analysis_client.begin_analyze_document(\"prebuilt-document\", document, polling_interval=5)\n",
    "\n",
    "    # Get the result\n",
    "    result = poller.result()\n",
    "    data = result.to_dict()\n",
    "    return data"
   ]
  },
  {
   "cell_type": "code",
   "execution_count": 24,
   "metadata": {},
   "outputs": [],
   "source": [
    "from PyPDF4 import PdfFileWriter, PdfFileReader\n",
    "\n",
    "inputpdf = PdfFileReader(open(path, \"rb\"))\n",
    "\n",
    "output = PdfFileWriter()\n",
    "output.addPage(inputpdf.pages[52])\n",
    "\n",
    "output_bytesio = io.BytesIO()\n",
    "\n",
    "output.write(output_bytesio)"
   ]
  },
  {
   "cell_type": "code",
   "execution_count": 25,
   "metadata": {},
   "outputs": [],
   "source": [
    "extracted_text = base_form_recogniser(output_bytesio)"
   ]
  },
  {
   "cell_type": "code",
   "execution_count": 27,
   "metadata": {},
   "outputs": [
    {
     "data": {
      "text/plain": [
       "'bp\\n206/12a-3 Geological End of Well Report\\nCLAR\\n10.3 LOT & FIT Plots\\nLeak Off Test\\nWell Name : 206/12a-3\\nRig : BYFORD DOLPHIN\\nTest Conducted By : Mike Thorogood\\nDate : 25th June 2011\\nCASING\\nTEST VOLUME\\nTEST\\n120\\nPRESS.\\n110 100 90 80 70 Applied pressure (psi) 60 50 40 30 20 10\\n0\\nSize(in)\\nWT.(sg)\\n15\\n20\\n1.15\\n20\\nWT.(ppf) 133\\nYP(Ib/100ft2)\\n0.2\\n26\\n0.3\\n35\\nGrade X56\\nAPI VL.(cc)\\n0.4\\n49\\n[30min)\\n0.5\\n65\\nMax.Allo.\\n0.6\\n80\\nPress.(psi)\\nGel 0/10\\n0.7\\n90\\n0.8\\n101.0\\nBurst\\nBBL\\n0.9\\n106.0\\nPress. (psi)\\nPumped\\n0.90\\nTest MD(m)\\n536\\nBBI\\nTime\\nPressure\\nReturned\\nTest TVD(m)\\n0.70\\n536\\nElevation(F()\\nSHOE\\nFrom RKB\\nMSL(Ft)\\nShoe MD(m)\\n527\\nWater\\nShoe TVD(m) Depth[m]\\n527\\nPump\\nLOT Result\\nLOT Result\\nRate(bpm) 0.3 Pressure\\nPressururized\\n84.0\\nDp/Ann/Both? FIT Press.\\nBoth\\nEMW[sg)\\nLiner Size(in)\\n1.26\\nLOT Result Calculation Formula EMW = MW + (P-IT ? (TVD-shoe * 1.421)) 1.15 0.11 = 1.26 (so)\\n0.0 0.2 0.4 0.6 0.8 1.0 Volume Pumped (bbls)\\nFigure 15: 20\" Shoe LOT at 536m TVD to 1.26sg EMW\\nFormation Integrity Test\\nWell Name : 206/12a-3\\nRig : BYFORD DOLPHIN\\nTest Conducted By : Date : 04th July 2011\\nMike Thorogood\\nCASING\\nMUD\\nTEST VOLUME\\nTEST PRESS.\\n400\\n390\\nSize(in)\\nWT.(sg)\\n0.6\\n62\\n380\\n13 3/8\\n1.55\\n0.8\\n66\\n370 360 350 340 330\\nFIT at cement unit = 360psi\\nMud hydrostatic to drill floor = 32psi on the pump\\nWT.(ppf) 72\\nYP(Ib/100ft2)\\n1.0\\n74\\n1.1\\n92\\nFIT pressure = 328psi\\nGrade\\nAPI WL.(cc)\\n1.2\\n123\\nFIT mud weight = 1.55sg\\nL80 (30min)\\n1.3\\n157\\n320\\nMax.Allo.\\n1.4\\n200\\n310\\n300\\nFIT Achieved = 1.75sg\\nPress.(psi)\\nGel 0/10\\n1.5\\n241\\n290\\n1.6\\n279.0\\n280\\n270\\nBurst\\nBBL\\n1.7\\n320.0\\nMWD Check\\nPress.(psi)\\nPumped\\n1.80\\n342.0\\n260 250\\nMWD pressure Minimum = 2388psi\\n1.85\\n1.85\\n360.0\\nMWD pressure Maximum = 2732psi\\nTest MD(m) 1,149\\nBBL Returned\\nTime\\nPressure\\n240\\nApplied pressure (psi)\\n230\\n220\\nSensor depth = 1121.5m MD 1096.0m TVD\\nPressure applied = 344psi over static\\nTest TVD(m)\\n1.85\\n210\\n** connection made with pumps off so some swab observed\\n1,119 Elevation(Ft)\\n200\\n190\\nPressure @ TD = 2783psi @ 1119m TVD = 1.747sg\\nSHOE\\nShoe MD(m)\\nFrom RKB\\n180\\nMSL(Ft)\\n170\\n1,140 Water\\n160\\n150\\nShoe TVD(m) Depth(m)\\n140\\n1,111\\n130\\n120\\nPump\\nRate(bpm)\\nFIT Result\\nFIT Result\\n110 100 90\\n0.3 Pressure 328.0\\n80\\nPressururized\\n70\\n60\\nDp/Ann/Both? FIT Press.\\nBoth EMW (sg)\\n50 40\\nLiner Size(in)\\n1.756\\n30\\n20 10\\n0\\nLOT Result Calculation Formula\\n0.0 0.2 0.4 0.6 0.8 1.0\\n1.2 1.4 1.6 1.8 2.0\\nEMW = MW + (P-FIT / (TVD-shoe * 1.421)) 1.55 + 0.21\\nVolume Pumped (bbls)\\nMinutes\\n1.756 (sg)\\nFigure 16: 13-3/8\" FIT at 1119m TVD to 1.75sg EMW\\nAt the 9-5/8\" shoe, the first attempted LOT was performed at 1816m TVD to a pressure of 965psi, 1.694sg EMW. The linear relationship suggested that an FIT had been performed however, decline from 1230psi to 960psi probably indicated that the formation had been broken down. A second test was carried out.\\nSW Clair 206/12a-3 Geological End of Well Report\\nPage 53 :unselected: :unselected: :unselected: :unselected: :unselected: :unselected: :unselected: :unselected: :unselected: :selected: :unselected: :unselected: :unselected: :selected: :unselected: :unselected: :unselected: :unselected: :selected: :unselected: :unselected: :unselected: :selected: :unselected: :unselected: :unselected: :unselected: :selected: :unselected: :unselected: :unselected: :unselected: :unselected: :unselected: :unselected: :unselected: :unselected: :unselected: :unselected: :unselected: :selected: :unselected: :unselected: :unselected: :selected: :unselected: :unselected: :unselected: :unselected: :selected: :unselected: :unselected: :unselected: :unselected: :unselected: :unselected: :unselected: :unselected: :unselected: :unselected: :unselected: :unselected: :unselected: :unselected: :unselected: :unselected: :unselected: :unselected: :unselected: :unselected: :unselected: :unselected: :unselected: :unselected: :unselected: :unselected: :unselected: :unselected: :unselected: :unselected: :unselected: :unselected: :unselected: :unselected: :unselected: :unselected: :unselected: :unselected: :unselected: :unselected: :unselected: :selected: :unselected: :unselected: :unselected: :unselected: :unselected: :selected: :unselected: :unselected: :unselected: :unselected: :unselected: :unselected: :unselected: :unselected: :unselected: :unselected: :unselected: :selected: :unselected: :unselected: :unselected: :unselected: :unselected: :selected: :unselected: :unselected: :unselected: :unselected: :selected: :unselected: :unselected: :unselected: :selected: :unselected: :unselected: :unselected: :unselected: :selected: :unselected: :unselected: :unselected: :unselected: :unselected: :unselected: :selected: :unselected: :selected: :unselected: :selected: :unselected: :unselected: :unselected: :unselected: :selected: :unselected: :unselected: :unselected: :unselected: :unselected: :unselected: :unselected: :unselected: :unselected: :unselected: :unselected: :unselected: :unselected: :selected: :selected: :unselected: :unselected: :unselected: :unselected: :unselected: :unselected: :unselected: :unselected: :unselected: :unselected: :unselected: :unselected: :unselected: :unselected: :unselected: :unselected: :unselected: :unselected: :unselected: :unselected: :unselected: :unselected: :unselected: :unselected: :unselected: :unselected: :unselected: :unselected: :unselected: :unselected: :unselected: :unselected: :unselected: :unselected: :unselected: :unselected: :unselected: :unselected: :unselected: :unselected: :unselected: :unselected: :unselected: :unselected: :unselected: :unselected:'"
      ]
     },
     "execution_count": 27,
     "metadata": {},
     "output_type": "execute_result"
    }
   ],
   "source": [
    "extracted_text[\"content\"]"
   ]
  },
  {
   "cell_type": "code",
   "execution_count": 28,
   "metadata": {},
   "outputs": [],
   "source": [
    "input = extracted_text[\"content\"]\n",
    "\n",
    "json_template = json.dumps({ \n",
    "    \"Test Type\": \"<FIT or LOT>\",\n",
    "    \"Casing Shoe\": \"<Casing shoe size>\",\n",
    "    \"TVD (m)\": \"TVD in meters\",\n",
    "    \"Surface pressure (psi)\": \"<MW value in sg>\",\n",
    "    \"MW (sg)\": \"<MW value in sg>\",\n",
    "    \"EMW (sg)\": \"<EMW value in sg>\"\n",
    "})\n",
    "\n",
    "system = f\"\"\"\n",
    "You are an API that given a text extracted using OCR from an End of Well Report will extract Formation Integrity Test (FIT) and Leak Off Test (LOT) results.\n",
    "Your response will be a JSON with as many entries as needed in the format {json_template}\n",
    "If there is a field that you can not find, set it a null.\n",
    "If the document has any kind of errors or is corrupted, add a field {{\"errors\": \"<error description>\"}}\n",
    "If there is any additional information of feedback from the infromation extraction, add a {{\"notes\": \"<additional-information>\"}}\n",
    "\n",
    "The format of your input will be the text of the relevant page.\n",
    "\"\"\"\n",
    "\n",
    "config = {\n",
    "    \"temperature\": 0.2,\n",
    "    \"max_tokens\": 512,\n",
    "    \"top_p\": 1,\n",
    "}\n",
    "\n",
    "response = openai.ChatCompletion.create(\n",
    "    model=\"gpt-3.5-turbo\",\n",
    "    messages=[\n",
    "      {\"role\": \"system\", \"content\": system},\n",
    "      {\"role\": \"user\", \"content\": input},\n",
    "    ],\n",
    "    temperature=config[\"temperature\"],\n",
    "    max_tokens=config[\"max_tokens\"],\n",
    "    top_p=config[\"top_p\"],\n",
    "  )"
   ]
  },
  {
   "cell_type": "code",
   "execution_count": 29,
   "metadata": {},
   "outputs": [
    {
     "name": "stdout",
     "output_type": "stream",
     "text": [
      "{\"Test Type\": \"LOT\", \"Casing Shoe\": \"20\", \"TVD (m)\": \"536\", \"Surface pressure (psi)\": \"84.0\", \"MW (sg)\": \"1.15\", \"EMW (sg)\": \"1.26\"}\n",
      "{\"Test Type\": \"FIT\", \"Casing Shoe\": \"13 3/8\", \"TVD (m)\": \"1119\", \"Surface pressure (psi)\": \"328.0\", \"MW (sg)\": \"1.55\", \"EMW (sg)\": \"1.756\"}\n"
     ]
    }
   ],
   "source": [
    "print(response.get(\"choices\")[0][\"message\"][\"content\"])"
   ]
  },
  {
   "cell_type": "markdown",
   "metadata": {},
   "source": [
    "# Let's fine tune the Propmt"
   ]
  },
  {
   "cell_type": "code",
   "execution_count": 30,
   "metadata": {},
   "outputs": [],
   "source": [
    "input = extracted_text[\"content\"]\n",
    "\n",
    "json_template = json.dumps({\n",
    "    \"Test Type\": \"<FIT or LOT>\",\n",
    "    \"Casing Shoe\": \"<Casing shoe size>\",\n",
    "    \"TVD (m)\": \"TVD in meters\",\n",
    "    \"Surface pressure (psi)\": \"<Surface pressure value>\",\n",
    "    \"MW (sg)\": \"<MW value in sg>\",\n",
    "    \"EMW (sg)\": \"<EMW value in sg>\"\n",
    "})\n",
    "\n",
    "system = f\"\"\"\n",
    "You are an assistant that given a text extracted using OCR from an End of Well Report will extract 'Formation Integrity Test' (FIT) and 'Leak Off Test' (LOT) results.\n",
    "There can be multiple tests, report all of them.\n",
    "Write your output as a JSON with an entry with the format {json_template} per each test you find.\n",
    "If there is a field that you can not find, set it a null.\n",
    "If the document has any kind of errors or is corrupted, add a field {{\"errors\": \"<error description>\"}}\n",
    "If there is any additional information of feedback from the infromation extraction, add a {{\"notes\": \"<additional-information>\"}}\n",
    "\"\"\"\n",
    "config = {\n",
    "    \"temperature\": 0.2,\n",
    "    \"max_tokens\": 512,\n",
    "    \"top_p\": 1,\n",
    "}\n",
    "\n",
    "response = openai.ChatCompletion.create(\n",
    "    model=\"gpt-3.5-turbo\",\n",
    "    messages=[\n",
    "      {\"role\": \"system\", \"content\": system},\n",
    "      {\"role\": \"user\", \"content\": input},\n",
    "    ],\n",
    "    temperature=config[\"temperature\"],\n",
    "    max_tokens=config[\"max_tokens\"],\n",
    "    top_p=config[\"top_p\"],\n",
    "  )"
   ]
  },
  {
   "cell_type": "code",
   "execution_count": 31,
   "metadata": {},
   "outputs": [
    {
     "name": "stdout",
     "output_type": "stream",
     "text": [
      "{\"Test Type\": \"Leak Off Test\", \"Casing Shoe\": \"20\", \"TVD (m)\": \"536\", \"Surface pressure (psi)\": \"101.0\", \"MW (sg)\": \"1.15\", \"EMW (sg)\": \"1.26\"}\n",
      "{\"Test Type\": \"Formation Integrity Test\", \"Casing Shoe\": \"13 3/8\", \"TVD (m)\": \"1119\", \"Surface pressure (psi)\": \"328.0\", \"MW (sg)\": \"1.55\", \"EMW (sg)\": \"1.756\"}\n"
     ]
    }
   ],
   "source": [
    "print(response.get(\"choices\")[0][\"message\"][\"content\"])"
   ]
  },
  {
   "cell_type": "markdown",
   "metadata": {},
   "source": [
    "# Another Document Example"
   ]
  },
  {
   "cell_type": "code",
   "execution_count": 34,
   "metadata": {},
   "outputs": [],
   "source": [
    "path = \"../data/EoWR/Clair A21 EOWR.pdf\""
   ]
  },
  {
   "cell_type": "code",
   "execution_count": 35,
   "metadata": {},
   "outputs": [],
   "source": [
    "from PyPDF4 import PdfFileWriter, PdfFileReader\n",
    "\n",
    "inputpdf = PdfFileReader(open(path, \"rb\"))\n",
    "\n",
    "output = PdfFileWriter()\n",
    "output.addPage(inputpdf.pages[9])\n",
    "\n",
    "output_bytesio = io.BytesIO()\n",
    "\n",
    "output.write(output_bytesio)\n",
    "extracted_text = base_form_recogniser(output_bytesio)\n",
    "\n",
    "input = extracted_text[\"content\"]\n",
    "\n",
    "json_template = json.dumps({\n",
    "    \"Test Type\": \"<FIT or LOT>\",\n",
    "    \"Casing Shoe\": \"<Casing shoe size>\",\n",
    "    \"TVD (m)\": \"TVD in meters\",\n",
    "    \"Surface pressure (psi)\": \"<Surface pressure value>\",\n",
    "    \"MW (sg)\": \"<MW value in sg>\",\n",
    "    \"EMW (sg)\": \"<EMW value in sg>\"\n",
    "})\n",
    "\n",
    "system = f\"\"\"\n",
    "You are an assistant that given a text extracted using OCR from an End of Well Report will extract 'Formation Integrity Test' (FIT) and 'Leak Off Test' (LOT) results.\n",
    "There can be multiple tests, report all of them.\n",
    "Write your output as a JSON with an entry with the format {json_template} per each test you find.\n",
    "If there is a field that you can not find, set it a null.\n",
    "If the document has any kind of errors or is corrupted, add a field {{\"errors\": \"<error description>\"}}\n",
    "If there is any additional information of feedback from the infromation extraction, add a {{\"notes\": \"<additional-information>\"}}\n",
    "\"\"\"\n",
    "config = {\n",
    "    \"temperature\": 0.2,\n",
    "    \"max_tokens\": 512,\n",
    "    \"top_p\": 1,\n",
    "}\n",
    "\n",
    "response = openai.ChatCompletion.create(\n",
    "    model=\"gpt-3.5-turbo\",\n",
    "    messages=[\n",
    "      {\"role\": \"system\", \"content\": system},\n",
    "      {\"role\": \"user\", \"content\": input},\n",
    "    ],\n",
    "    temperature=config[\"temperature\"],\n",
    "    max_tokens=config[\"max_tokens\"],\n",
    "    top_p=config[\"top_p\"],\n",
    "  )"
   ]
  },
  {
   "cell_type": "code",
   "execution_count": 36,
   "metadata": {},
   "outputs": [
    {
     "name": "stdout",
     "output_type": "stream",
     "text": [
      "{\"Test Type\": \"FIT\", \"Casing Shoe\": \"17.1/2\\\"\", \"TVD (m)\": \"1180\", \"Surface pressure (psi)\": null, \"MW (sg)\": null, \"EMW (sg)\": \"1.72\"}\n",
      "{\"Test Type\": \"LOT\", \"Casing Shoe\": \"8.1/2\\\"\", \"TVD (m)\": \"-1881.5\", \"Surface pressure (psi)\": null, \"MW (sg)\": null, \"EMW (sg)\": null}\n"
     ]
    }
   ],
   "source": [
    "print(response.get(\"choices\")[0][\"message\"][\"content\"])"
   ]
  },
  {
   "cell_type": "code",
   "execution_count": 62,
   "metadata": {},
   "outputs": [
    {
     "data": {
      "text/plain": [
       "'bp\\n4. Geology and geophysics\\n4.1 Geological summary\\n32\" Section\\n206/08-A21 was drilled from Slot 20 on the Clair Phase 1 Platform. The 32\" section drilled through the Otter Bank Sequence, Ferder Formation, Morrison Sequence and Sinclair Sequence before setting the shoe in the sands of the Westray Group at 390m MD, 390m TVDBRT.\\n17.1/2\" Section\\nThe 17.1/2\" section drilled the remaining Westray Group, the Balder Formation, and into the Cretaceous. The shoe was set at 1249m MD, 1180m TVDBRT in the upper part of the Cretaceous at the top of the Maastrichtian K90 sequence. This section comprised predominantly sands and thin mudstones, with the Cretaceous boundary marking a transition to mudstones. The formation tops came within 5mTVD of prognosis, with top Cretaceous 4mTVD shallow.\\n12.1/4\" Section\\nLarge quantities of cavings were recorded when cleaning out the rat-hole which cleaned up relatively quickly. A FIT was performed to 1.72sg EMW after drilling 3m of new formation. Drilling commenced in mudstones of the Late Maastrichtian K90.4 sequence and the K90.3 sequence (at 1275m MD -1131m TVDSS). The Early Maastrichtian K90.2 sequence at 1360m MD (-1202m TVDSS) was penetrated and picked using gamma ray. The Campanian K80.2 sequence was penetrated at 1785m MD (-1450m TVDSS), identified by an increase in the stick/slip suggesting a lithological change and was confirmed with LWD gamma ray. A small trace of angular and tabular cavings were recorded at 1840m MD, but quickly disappeared. Post well biostratigraphic analysis dated these cavings as Late Maastrichtian. Combined with the presence of cement the cavings are thought to have originated from the rat hole of the 17.1/2\" section. The Santonian K76 sequence at 1884m MD (-1502m TVDSS) was identified using gamma ray. The section comprised of mudstones with dolomitic limestone stringers. No WBS issues were recorded while drilling the Cretaceous mudstone sequences.\\nThe Upper Clair Group was penetrated at 2119m MD (-1625m TVDSS), identified from gamma ray and resistivity plus an influx of heavier gases. Heavy Minerals Analysis confirmed Upper Clair Group, Unit IX. The C_W2 fault was inferred at 2265m MD from a stuck pipe incident that occurred close to the prognosed fault depth. ROP began to reduce as the sandstones became tighter with depth, on occasion ROP being reduced to less than 1m/hr. The observation of fresh angular cavings resulted in early TD of the section being called within UCG Unit VII at 2588m MD (-1878m TVDSS) to limit further wellbore failure. Post-well biostratigraphic analysis dated these cavings as originating from the Early Maastrichtian / Late Campanian interval. More detail is provided in Section 7 - Wellbore stability.\\n8.1/2\" Section\\nThe remainder of the Upper Clair Group Unit VII was drilled, with the top Lower Clair Group, Unit Vlb picked on resistivity data and confirmed by Heavy Minerals at 2596m MD, (-1881m TVDSS), 44m TVD deeper than prognosed. Fault C_E1 was intersected at 2722m MD, (-1939.5m TVDSS) placing the well into Unit Vla.\\nTop Unit V (V.3) was identified at 2841m MD, (1983m TVDSS) which was 14m TVD shallower than prognosed. Unit V.2 was identified at 2979m MD and Unit V.1 at 3489m MD. Heavy minerals analysis revealed the well to be cutting down through Unit V and at 3520mMD the well entered the top of Unit IV. Unit V was seen between 3580m to 3600m suggesting a possible faulted re-entry to Unit V before returning\\n8\\nEOWR - 206/08/A21 (CP28)'"
      ]
     },
     "execution_count": 62,
     "metadata": {},
     "output_type": "execute_result"
    }
   ],
   "source": [
    "input"
   ]
  },
  {
   "cell_type": "markdown",
   "metadata": {},
   "source": [
    "# Another Document Example"
   ]
  },
  {
   "cell_type": "code",
   "execution_count": 37,
   "metadata": {},
   "outputs": [],
   "source": [
    "path = \"../data/EoWR/BHGE Integrated EOWR_204_20_L12.pdf\""
   ]
  },
  {
   "cell_type": "code",
   "execution_count": 40,
   "metadata": {},
   "outputs": [],
   "source": [
    "from PyPDF4 import PdfFileWriter, PdfFileReader\n",
    "\n",
    "inputpdf = PdfFileReader(open(path, \"rb\"))\n",
    "\n",
    "output = PdfFileWriter()\n",
    "output.addPage(inputpdf.pages[28])\n",
    "\n",
    "output_bytesio = io.BytesIO()\n",
    "\n",
    "output.write(output_bytesio)\n",
    "extracted_text = base_form_recogniser(output_bytesio)\n",
    "\n",
    "input = extracted_text[\"content\"]\n",
    "\n",
    "json_template = json.dumps({\n",
    "    \"Test Type\": \"<FIT or LOT>\",\n",
    "    \"Casing Shoe\": \"<Casing shoe size>\",\n",
    "    \"TVD (m)\": \"TVD in meters\",\n",
    "    \"Surface pressure (psi)\": \"<Surface pressure value>\",\n",
    "    \"MW (sg)\": \"<MW value in sg>\",\n",
    "    \"EMW (sg)\": \"<EMW value in sg>\"\n",
    "})\n",
    "\n",
    "system = f\"\"\"\n",
    "You are an assistant that given a text extracted using OCR from an End of Well Report will extract 'Formation Integrity Test' (FIT) and 'Leak Off Test' (LOT) results.\n",
    "There can be multiple tests, report all of them.\n",
    "Write your output as a JSON with an entry with the format {json_template} per each test you find.\n",
    "If there is a field that you can not find, set it a null.\n",
    "If the document has any kind of errors or is corrupted, add a field {{\"errors\": \"<error description>\"}}\n",
    "If there is any additional information of feedback from the infromation extraction, add a {{\"notes\": \"<additional-information>\"}}\n",
    "\"\"\"\n",
    "config = {\n",
    "    \"temperature\": 0.2,\n",
    "    \"max_tokens\": 512,\n",
    "    \"top_p\": 1,\n",
    "}\n",
    "\n",
    "response = openai.ChatCompletion.create(\n",
    "    model=\"gpt-3.5-turbo\",\n",
    "    messages=[\n",
    "      {\"role\": \"system\", \"content\": system},\n",
    "      {\"role\": \"user\", \"content\": input},\n",
    "    ],\n",
    "    temperature=config[\"temperature\"],\n",
    "    max_tokens=config[\"max_tokens\"],\n",
    "    top_p=config[\"top_p\"],\n",
    "  )"
   ]
  },
  {
   "cell_type": "code",
   "execution_count": 41,
   "metadata": {},
   "outputs": [
    {
     "name": "stdout",
     "output_type": "stream",
     "text": [
      "{\"Test Type\": \"FIT\", \"Casing Shoe\": null, \"TVD (m)\": null, \"Surface pressure (psi)\": null, \"MW (sg)\": null, \"EMW (sg)\": \"1.45sg\"}\n"
     ]
    }
   ],
   "source": [
    "print(response.get(\"choices\")[0][\"message\"][\"content\"])"
   ]
  },
  {
   "cell_type": "code",
   "execution_count": null,
   "metadata": {},
   "outputs": [],
   "source": []
  }
 ],
 "metadata": {
  "kernelspec": {
   "display_name": ".venv",
   "language": "python",
   "name": "python3"
  },
  "language_info": {
   "codemirror_mode": {
    "name": "ipython",
    "version": 3
   },
   "file_extension": ".py",
   "mimetype": "text/x-python",
   "name": "python",
   "nbconvert_exporter": "python",
   "pygments_lexer": "ipython3",
   "version": "3.11.5"
  },
  "orig_nbformat": 4
 },
 "nbformat": 4,
 "nbformat_minor": 2
}
