{
 "cells": [
  {
   "cell_type": "markdown",
   "metadata": {},
   "source": [
    "# To locate FIT and LOT in large documents"
   ]
  },
  {
   "cell_type": "code",
   "execution_count": 8,
   "metadata": {},
   "outputs": [],
   "source": [
    "from azure.core.credentials import AzureKeyCredential\n",
    "from azure.ai.formrecognizer import DocumentAnalysisClient\n",
    "import json\n",
    "import openai\n",
    "import os\n",
    "\n",
    "with open('../local_settings.json') as f:\n",
    "    data = json.load(f)\n",
    "\n",
    "# Set form recogniser client\n",
    "credential = AzureKeyCredential(data[\"FORM_KEY\"])\n",
    "document_analysis_client = DocumentAnalysisClient(data[\"FORM_ENDPOINT\"], credential)\n",
    "\n",
    "# This example also requires an OpenAI API key\n",
    "os.environ['OPENAI_API_KEY'] = data['OPENAI_API_KEY']\n",
    "openai.api_key = os.environ['OPENAI_API_KEY']"
   ]
  },
  {
   "cell_type": "code",
   "execution_count": 9,
   "metadata": {},
   "outputs": [],
   "source": [
    "field_names = [\"Mission\", \"Colour Palette\"]\n",
    "field_descriptions = [\"\", \"\"]\n",
    "\n",
    "json_template = json.dumps({\"Results\": [dict(zip(field_names, field_descriptions))]})\n",
    "\n",
    "\n",
    "system = f\"\"\"\n",
    "You are an assistant that given a text extracted using OCR from a document will extract user provided data fields.\n",
    "Fields can have multiple formats.\n",
    "Write your output as a JSON with an entry with the format {json_template} per each test you find.\n",
    "If there is a field that you can not find, set it a null.\n",
    "If there is any additional information of feedback from the infromation extraction, add a {{\"notes\": \"<additional-information>\"}}\n",
    "\"\"\"   # noqa E501"
   ]
  },
  {
   "cell_type": "code",
   "execution_count": 11,
   "metadata": {},
   "outputs": [],
   "source": [
    "import pdfplumber\n",
    "\n",
    "path = \"../data/example/Elastacloud-Brand-Book.pdf\"\n",
    "\n",
    "relevant_text = \"\"\n",
    "with pdfplumber.open(path) as pdf:\n",
    "    for page in pdf.pages:\n",
    "        relevant_text += pdf.pages[page.page_number-1].extract_text()"
   ]
  },
  {
   "cell_type": "code",
   "execution_count": 13,
   "metadata": {},
   "outputs": [],
   "source": [
    "from llama_index import VectorStoreIndex, ServiceContext\n",
    "from llama_index.node_parser import SimpleNodeParser\n",
    "from llama_index import Document\n",
    "from langchain.chat_models import ChatOpenAI\n",
    "from llama_index import LLMPredictor\n",
    "\n",
    "\n",
    "documents = [Document(text=relevant_text)]\n",
    "\n",
    "node_parser = SimpleNodeParser.from_defaults(chunk_size=4096,\n",
    "                                                chunk_overlap=200)\n",
    "                                                \n",
    "llm = ChatOpenAI(temperature=0, max_tokens=512)\n",
    "llm_predictor = LLMPredictor(llm=llm)\n",
    "service_context = ServiceContext.from_defaults(node_parser=node_parser,\n",
    "                                                llm_predictor=llm_predictor)\n",
    "\n",
    "index = VectorStoreIndex.from_documents(documents,\n",
    "                                        service_context=service_context)\n",
    "query_engine = index.as_query_engine()"
   ]
  },
  {
   "cell_type": "code",
   "execution_count": 14,
   "metadata": {},
   "outputs": [],
   "source": [
    "response = query_engine.query(\"What is EC color palette?\")"
   ]
  },
  {
   "cell_type": "code",
   "execution_count": 15,
   "metadata": {},
   "outputs": [
    {
     "data": {
      "text/plain": [
       "<bound method Response.get_formatted_sources of Response(response=\"The EC color palette consists of a selection of colors that are approved for use in our branding. These colors are specifically Elastacloud navy, Elastacloud blue, Elastacloud sky, Elastacloud yellow, and Elastacloud green. Each color has its own CMYK, RGB, and Hex values that should be used for different purposes like print, screen, and web. It is important to use the correct color references for each application to maintain consistency in our brand's visual identity.\", source_nodes=[NodeWithScore(node=TextNode(id_='5a773191-7330-45c5-b33b-861abf518e76', embedding=None, metadata={}, excluded_embed_metadata_keys=[], excluded_llm_metadata_keys=[], relationships={<NodeRelationship.SOURCE: '1'>: RelatedNodeInfo(node_id='6739222c-6c0a-4eef-9095-b8a4d9076524', node_type=<ObjectType.DOCUMENT: '4'>, metadata={}, hash='c5ac0d8386bb12226c1165daffb9772cb7b9fe65d96348023933eba1df32bbff'), <NodeRelationship.PREVIOUS: '2'>: RelatedNodeInfo(node_id='044e2f22-f3db-4698-bb31-5a4ea2d21256', node_type=<ObjectType.TEXT: '1'>, metadata={}, hash='45201f4ed06273264bcd39c3634129ae93e07943c8c6677d30f31b1259521fbc')}, hash='c9dd24bd532a4a9acf53d696ce101ef1060b7e4f69e7d5c7c6b6497d5278c995', text='Minimum width: 25mm\\nThe minimum sizes that the logo can be used are\\nset at 25mm for print applications and 100px for\\ndigital applications.\\nTo ensure the logo is always legible and accessible,\\nespecially with printed materials, our logo should\\nnever appear at sizes smaller than this. Minimum width: 100pxDo not use the wrong colour variation Do not add a drop shadow\\nKEEPING OUR LOGO TRUE\\nDo not change the opacity Do not change the colours\\nDo not squeeze or stretch Do not use on an angle\\nWe’re very proud of our logo and this brand book helps us\\nto ensure there is always consistency in the way it is used.\\nPlease only ever use the logo in the correct colours and fonts\\nas outlined within this document and never distort or change\\nany part of it. We must ensure that our logo always looks as\\ngood as we intended it to, across everything we do.\\nHere are some examples of how our logo must never be\\naltered or presented:OUR SUB-BRAND (SOLUTIONS) LOGOS\\nData Analytics\\nPlatform\\nData Analytics\\nPlatformOUR SUB-BRAND (SOLUTIONS) LOGOS\\nIntelligent\\nSpaces\\nIntelligent\\nSpacesOUR COLOUR PALETTE\\nElastacloud navy Elastacloud blue Elastacloud sky\\nC:87 M:75 Y:45 K:49 C:75 M:38 Y:0 K:0 C:33 M:2 Y:0 K:0\\nR:41 B:48 B:69 R:45 B:130 B:219 R:178 B:223 B:255\\n#293045 #2D82DB #B2DFFF\\nElastacloud yellow Elastacloud green\\nC:20 M:0 Y:78 K:0 C:56 M:0 Y:91 K:0\\nR:277 B:247 B:82 R:110 B:235 B:71\\n#E3F752 #6EEB47\\nThis is our approved colour palette. Please\\nensure that the right colour references are\\nused for each application e.g. CMYK for\\nprint, RGB for screen and Hex for web.\\nsruoloc\\ndnarb\\neroC\\nsruoloc\\ntneccAOUR TYPEFACES\\nSHORT HEADLINES\\nTERMINA - DEMI, UPPERCASE\\nLong headlines and subtitles\\nRoboto - Bold, Sentence case\\nRoboto - Light, Sentence case\\nBody Copy\\nRoboto - Regular, Sentence case\\nTermina font can be activated through\\nAdobe Typekit at fonts.adobe.com/fonts/termina\\nRoboto can be downloaded for free from Google Fonts\\nat fonts.google.com/specimen/RobotoOUR BRAND TOOL KIT\\nBRAND ASSETS\\nIn addition to our logos, colour palette and fonts, there are other assets in our brand tool kit\\nthat help to make our communications distinctively Elastacloud. These include:\\nData square graphics\\nData bridge graphics\\nImages\\nA combination of all of the above\\nThe following pages provide more insight about how these should be used.\\nDATA SQUARES DATA BRIDGE\\nCan be made up of any of the colours in the approved A blend of colours from the approved\\nbrand palette. Can be single squares or adjacent squares palette. Instructions for how to replicate\\ntouching on the corner points only, but never placed this effect are available.\\nside by side. Squares can be used effectively as design\\nfeatures, as shown in ‘Five core messages’ above.OUR VISUAL LANGUAGE\\nElastacloud unleashes the power and opportunity hidden within data, through the representation of data flowing between points and intersecting with smaller ‘data\\ndesign and implementation of world-class, enterprise-grade solutions. We use and squares’, overlaid on top of our hero images.\\nconnect data to build a better world and we’re always searching for the beauty in data.\\nWe operate at a granular level by getting ‘up-close’ with data, so that we can identify 3. Use of exciting, intriguing, engaging, and stunningly detailed hero images of i)\\nand unlock the opportunities that lay hidden in plain sight. We look at every challenge close-up nature shots and/or of ii) clients, people and industry. These images\\nfrom multiple perspectives, never losing a sense of the bigger picture or of both micro are interchangeable depending upon the context they are being presented in and\\nand macro points of view. We always apply the Elastacloud ‘magic sauce’ to deliver what they are being used for, e.g. on a case study, sales deck or LinkedIn advert.\\naccelerated outcomes. Hero images can be either:\\nThese sentiments should, wherever possible and appropriate, be represented through i) Close up images of nature to represent how Elastacloud gets up-close with\\nthe unique styling of the visuals, brand assets and ‘hero’ imagery that we use in external data and operates at a granular level, to gain the understanding required to\\n(and internal) communications and brand touch points (such as our website or sales provide effective, fast solutions. We use super close-up natural images (flora and\\nand marketing material). The way we present our visual imagery is by implementing a fauna: animals, birds, plants, food etc.), to reveal the hidden detail, colour, texture,\\ncombination of three key components: pattern and beauty (as well as repetition and connection) that becomes apparent\\nwhen magnified. This is a metaphor for how we work with data and is also a\\n1. Use of solid brand colour ‘data squares’ to represent how Elastacloud intersects with reflection of our sustainability focus.\\nand benefits our world (whilst directly echoing the two data squares that drop into\\nand/or\\nthe E of our logo).\\nii) Macro images to reflect our client, people and industry expertise and\\n2. Use of a distinctive brand asset that we refer to as a ‘data bridge’. This ‘rainbow- experience, in order to show real-world applications of what we do and the\\nlike’ coloured line (comprising a blend of the Elastacloud colour palette) is a visual impact we have on people and the planet.USE OF PHOTOGRAPHY\\nHere are some example nature and people/industry images incorporating the ‘data squares’ and ‘data bridge’ assets.\\nA full gallery of images has been created and is available to be used in presentations and on the web.\\nWhich images should be used and where, is purely at the discretion of the designer or producer of the item. In real\\nworld applications or case studies, relevant images of people and industry may be most appropriate. When concepts\\nare broader or more abstract, then nature images may work best. Images are interchangeable but consistently linked\\nin visual language by the integration of the ‘data squares’ and ‘data bridge’ assets.EXAMPLES OF APPLICATIONEXAMPLES OF APPLICATIONGLOSSARY OF TERMS\\nHERE’S A GUIDE TO SOME OF THE THINGS WE TEND TO TALK ABOUT AND PHRASES WE USE\\nWITHIN AND BEYOND THIS DOCUMENT. IN SOME CASES, THIS INCLUDES PROOF POINTS\\nAND ‘REASONS TO BELIEVE’ IN ORDER TO VALIDATE STATEMENTS AND CLAIMS MADE:\\nAccelerators – in relation to outcomes, at Elastacloud Data science – Combines statistics (and maths), as Azure IoT Hub and Azure Digital Twins to construct a\\nwe’re known to ‘accelerate’ processes to scale for programming, advanced analytics, artificial intelligence solution.)\\ncustomers with our expertise. (AI), and machine learning to uncover actionable insights\\nKnowledge Miner – also known as ‘Intelligent Search’ is\\nhidden in an organisations/customers data.\\nAdvanced analytics – Goes beyond historical reporting propitiatory search tool power by Azure Cognitive Services\\nand data aggregation of traditional BI, mathematical, Data squares – An Elastacloud-coined term used as a way that allows advanced search capabilities across an\\nprobabilistic, and statistical modelling techniques to of naming the solid colour graphic squares that appear in organisation’s dataset.\\nenable predictive processing and automated decision- our logo and in our visual imagery / branding.\\nMachine learning – A process that a computer follows to\\nmaking.\\nDigital twins – a virtual model designed to accurately achieve artificial intelligence. It uses algorithms to identify\\nAI – Artificial Intelligence is a field that combines data reflect a physical object. (Not to be confused with Azure patterns within data and those patterns are then used to\\nscience and robust datasets that enable problem-solving. Digital Twins [PaaS]). create a data model that can make predictions.\\n(refer here for types of AI)\\nElastaclouders – An Elastacloud-coined term used as an ‘More quickly’ – See ‘Faster’\\nAWS – Amazon Web Services affectionate and unique way of referring to Elastacloud\\nPower BI – Interactive data visualisation software.\\nemployees and team members across the world.\\nAzure Architecture – process of creating, deploying,\\nSQL (also known as Sequel) = Structured Query Language\\noperating and managing cloud-based application. Enterprise data platform – Central data repository of an\\n– standardised programming language that’s used to\\norganisation where all intelligence data is unified.\\nData bridge – An Elastacloud-coined term used as a way manage relational databases and perform operations on\\nof naming the ‘rainbow-like’ graphic device used in some of Enterprise search development – refer to ‘Knowledge the data in them.\\nour visual imagery and branding. Miner’\\nSustainability – Shorthand for Sustainable Development,\\nData insights – Deep understanding/knowledge on the ESG ¬– An investment risk management framework defined in the 1987 publication of the UN’s Brundtland\\nvalue gain and what it means for an organisation from and tool to encourage more responsible investing. It is Commission’s ‘Our Common Future’ as a value-system\\nanalysing sets of information (analytics). important that Environmental, Social and Governance based on personal and organisational values needed to\\nfactors are considered when making investment decisions. “meet the needs of the present without compromising the\\nData lake – Data which is cleaned, enriched, and\\nability of future generations to meet their own needs”.\\ntransformed so it can act as the ‘single source of truth’ that Faster – We help businesses to achieve their goals faster\\nusers can trust. than a business would normally by delivering actionable Unleash / Unshackled – Elastacloud language used to\\ninsights and more efficient processes and services. reflect how Elastacloud identifies, unlocks, releases,\\nData pioneer – Our founders are pioneers in data:\\nharnesses and utilises the potential opportunity and power\\nauthoring a data science degree on academy.microsoft. IoT: ‘Internet of Things’ - Physical hardware that is\\nthat lies hidden within the data it works with, to great effect\\ncom, co-founding the UK Azure User Group, and a key embedded with sensors that allow the exchange of data\\nand in order to deliver accelerated outcomes.\\ncontributor to Apache open source projects, with countless with other devices and systems over the internet. (Azure\\npublic contributions to Azure from our wider team. IoT – refers to the above but managed by platforms suchTHANK YOU FOR ADHERING TO THESE GUIDELINES\\nFor futher questions and styling advice, please\\ncontact Emma Benjamin at Creative Clinic:\\nemma.benjmain@thecreativeclinic.com\\ndesigned by thecreativeclinic.com', start_char_idx=None, end_char_idx=None, text_template='{metadata_str}\\n\\n{content}', metadata_template='{key}: {value}', metadata_seperator='\\n'), score=0.7719788191332627), NodeWithScore(node=TextNode(id_='044e2f22-f3db-4698-bb31-5a4ea2d21256', embedding=None, metadata={}, excluded_embed_metadata_keys=[], excluded_llm_metadata_keys=[], relationships={<NodeRelationship.SOURCE: '1'>: RelatedNodeInfo(node_id='6739222c-6c0a-4eef-9095-b8a4d9076524', node_type=<ObjectType.DOCUMENT: '4'>, metadata={}, hash='c5ac0d8386bb12226c1165daffb9772cb7b9fe65d96348023933eba1df32bbff'), <NodeRelationship.NEXT: '3'>: RelatedNodeInfo(node_id='5a773191-7330-45c5-b33b-861abf518e76', node_type=<ObjectType.TEXT: '1'>, metadata={}, hash='c9dd24bd532a4a9acf53d696ce101ef1060b7e4f69e7d5c7c6b6497d5278c995')}, hash='45201f4ed06273264bcd39c3634129ae93e07943c8c6677d30f31b1259521fbc', text='BRAND BOOK\\nV4\\nMarch 2023WHO WE ARE\\nOUR VISION\\nGlobal industry transformation through data and next generation AI\\nWe believe every business has immense power in its data. The power to unlock growth, to unleash intelligence, and to accelerate\\noutcomes – responsibly, and with the help of AI.\\nWe’re playing in a new game –where data is the fuel for your future growth, and AI is the accelerator to your destination.\\nIn this new era of AI, the power of data and AI is no longer limited to the few companies with skilled data scientists and experts.\\nNow, every business has opportunities to do things better, smarter, faster – to become more intelligent.\\nElastacloud will lead this new era and help democratise intelligence – empowering businesses to grow sustainably –\\nby unleashing the power of their data with intelligent solutions and services.\\nOUR MISSION\\nTo pioneer through data for the greater good\\n– utilising cutting-edge data science and intelligence to create a better, more connected, and sustainable world.\\nOUR VALUES\\nPioneering through data and next generation AI\\nTrust and transparency\\nAccountability\\nCommunity and sustainability\\nDiversity and inclusionWHO WE ARE\\nOUR BRAND POSITIONING\\nElastacloud are data pioneers and industry-leading innovators\\nwho challenge the limits of possibility to accelerate transformation and deliver\\ngame-changing insights and outcomes to some of the world’s leading brands.\\nWith a culture of pioneering for the greater good, and utilising cutting-edge data\\nscience and intelligence, we unleash the power and opportunity hidden within data\\nthrough the design and implementation of world-class, enterprise-grade solutions.\\nOUR BRAND PROPOSITION\\nUtilising pioneering techniques, data science, intelligence,\\nand innovation, we will unleash the power and opportunity\\nhidden within your data to accelerate transformation and deliver\\ngame-changing insights and outcomes to your business, fast.\\nOUR BRAND STRAPLINE\\nPioneering Through Data\\nOUR ELEVATOR PITCH\\nWe can unleash the hidden power within your data to\\nelevate your business, accelerate outcomes and deliver\\ngame-changing insights, fast.OUR FIVE CORE MESSAGES\\n1. We are data pioneers\\nThrough the design and implementation of world-class, enterprise-grade solutions, Elastacloud are\\npioneers in the way data is gathered, structured and harnessed. Our revolutionary approach and steely\\ndetermination to innovate, consistently delivers game-changing insights, outcomes and transformation.\\n2. We unleash the power of data\\nWhen it comes to data, we are masters in the art of the possible. Whatever the business objectives –\\nfrom sustainability and growth to transformation – our teams of technologists have the vision, knowledge,\\nand expertise to unleash the power and opportunity hidden within any data.\\n3. We accelerate transformational outcomes\\nElastacloud are accelerators, empowering businesses to get where they’re going faster, securely and\\ncost-effectively. Because we design and implement bespoke intelligence-led data solutions within weeks,\\nnot months or years, we deliver accelerated outcomes and transformation faster than anyone else.\\n4. We are trusted advisors\\nElastacloud serve as strategic partners to global brand leaders; employing some of the finest talent in\\nthe world to advise, innovate and embed cutting-edge, ground-breaking data science and intelligence.\\n5. We are a global community\\nAlthough our people are spread across the world, we are united by a culture of pioneering for the greater\\ngood. We love to solve big problems and give people the freedom to experiment, learn quickly, and share\\nideas with others. We are not afraid of the unconventional and encourage our teams to take on big\\nchallenges that could fail, so we can learn and continue striving for breakthrough outcomes.OUR BRAND TONE OF VOICE / PERSONALITY\\nOverall, Elastacloud speaks with a voice that is confident, clear, We are collaborators and partners. This means we are flexible,\\ndirect and concise: always cutting through noise and conveying a clever co-operative, open-minded and non-judgemental. We are extremely\\nand playful personality that builds rapport with each specific audience. ‘human’: friendly, approachable and accessible, not a faceless digital\\nLanguage should be tailored to reflect and be appropriate to whomever behemoth. We are proud of our playful, creative, sometimes quirky\\nis being communicated to, for example the business decision maker culture and personality.\\nversus the tech decision maker.\\nWe are ‘woke’, passionate and caring. We genuinely believe that\\nWe are trustworthy and dependable, and that can be validated by data can be used to build a better world and to improve outcomes\\nsome of the accolades we have received and brand names we have as on a local and global scale. We want to be a force for good and we\\nclients. But we need to give people reason to trust and believe what we lead by example. We care deeply about the welfare of our planet and\\nsay by demonstrating our knowledge and leader role in the industry. humanity, firmly believing that we have an important role to play.\\nWe are successful, knowledgeable, expert, respected by our industry The language we use shouldn’t be overly jargon-heavy although\\npeers, accomplished and self-assured… but we must never sound the audience will generally be knowledgeable in the fields of data\\n‘cocksure’ or arrogant. and technology so needs to be respectful and mindful of that (not\\ncondescending or too dumbed down). Text needs to talk the language\\nWe call ourselves pioneers because we are brave, bold, adventurous,\\nof CIOs and data professionals, but also give them the language to\\ncurious and always willing to challenge. We see ourselves as disruptors,\\nspeak to their CEO, CFO, Sustainability Officer or ESG Committee.\\neven maverick at times, and some might describe us as anti-\\nIt must strike a balance between clarity and over-simplification.\\nestablishment. We don’t just accept things as they are if we believe\\nthere is a better way to do things, but we are never belligerent or We always speak in the plural (we, us, ‘what we do’, ‘who we are’).\\naggressive. Determined with self-belief yes, rail-roading never. We can however refer to ourselves as Elastacloud and Elastaclouders.OUR BRAND STORY\\nWe’re pioneering through data and growth to transformation – we push the boundaries For well over a decade, Elastacloud has established and\\nof possibility with a revolutionary approach and steely maintained various industry user groups: joining together\\nElastacloud have always been data pioneers: unleashing determination to unshackle their data and harness the more than 12,000 people around the world for community-\\nthe power hidden within data through the design and opportunities it offers. based learning and innovation. This includes one of the\\nimplementation of world-class, enterprise-grade solutions. largest data science communities in Europe.\\nWe are accelerators, empowering businesses to get where We’re always searching for the beauty in data, operating\\nthey’re going securely, cost-effectively, and faster – often at a granular level and getting ‘up-close’ with it, so that We are also proud to sponsor computer labs at Shanti\\ndeploying within days and weeks, not months or years. we are able to identify and unlock the gateways that sit Bhavan, a residential school in India for children born into\\nin plain sight. We look at every challenge from multiple the lowest socioeconomic class, which aims to uplift from\\nOur founders, Richard Conway and Andy Cross were the perspectives, never losing sight of the bigger picture or of poverty through education and opportunity. Our team in\\nfirst pioneers; sharing an extraordinary talent for finding both micro and macro points of view. India run coding labs for the students there, sometimes\\nthe hidden power and untapped opportunities in data and held in the Elastacloud offices.\\nthen unleashing its potential. If anyone said “it can’t be We love to solve big problems and give people the freedom\\ndone”, they said “just watch us”, challenged the limits of to experiment, learn quickly, and share ideas with others. Elastacloud has a deeply embedded commitment to\\nwhat ‘other experts’ claimed was possible and usually did We see ourselves as challengers and disruptors, even inclusivity, support, collaboration, nurturing and valuing\\nit faster than anyone else. maverick at times. We are not afraid of the unconventional its people. Across the world, we actively encourage\\nand encourage our teams to take on big challenges Elastaclouders to find a healthy balance of work and\\nThrough advanced analytics, data science, best practice that could fail, so we can learn and continue striving for personal life: promoting time for self, family and friends,\\ndevelopment in AI and cloud data architectures – as well breakthrough outcomes. for leisure and wellbeing. In India for example, we\\nas research and development of sustainable business don’t allow our teams to consistently work outside of\\npractice and green technologies – Elastacloud continue to We champion shared experience, innovation, collaboration, standard operating hours, despite this generally being\\npioneer through data to deliver accelerated transformation imagination, creativity, adventure, and opportunity. This is the expectation that people experience within Indian\\nand game-changing insights and outcomes, fast. because we actively encourage our people to look for bold, corporate culture.\\nalternative, and creative solutions – not just in delivery of\\nThe Elastacloud way our ground-breaking, data solutions for clients, but also We take on graduates and experienced individuals from\\nthrough our unconventional recognition of the importance all over (including from Shanti Bhavan) who possess the\\nSince 2011, we have been building our commitment to of play and imagination. passion and mindset to make a difference. ‘Elastaclouders’\\ninnovation, intelligent solutions and accelerated outcomes are encouraged to invest at least an hour of their own time\\nOne example of this is the way that Elastaclouders working\\ninto a global business with teams of over 300 data experts each month to mentor and support children, teaching them\\nacross four countries are encouraged to participate\\nacross the UK, Spain, Brazil and India. how to code and advance their IT literacy. This instils our\\nand compete in company-wide ‘Dungeons & Dragons’\\ngraduates with a sense of community: ensuring that our\\nWe generally refer to our team members as tournaments, run by our own in-house Dungeon Master. values are passed on to more people and helping to embed\\n‘Elastaclouders’. Our Elastaclouders consist of some of Such gameplay enhances ‘out-of-the-box’ thinking, problem sustainable social equity within the technologies we work in.\\nthe finest data technologist talent around, and serve as solving and confidence building as well as strengthening\\nstrategic advisors to several of the world’s leading brands. relationships between teams. Since 2020, Elastacloud has been a foundation sponsor of\\nWe are highly respected and accomplished leaders in the The National Museum of Computing, which is based on the\\nIt’s all of this combined that gives us a unique ‘magic sauce’.\\ndata industry, with Richard and Andy recognised as present famous Bletchley Park estate where the Enigma code was\\nMicrosoft Regional Directors and retired Microsoft Most cracked, turning the tide of the war. We’re active in a wide\\nValuable Professionals. A culture of giving back variety of events and activities at this inspiring educational\\nvenue; one that carries so much historical value and\\nJust like our founders have always done, we look at Elastacloud firmly believes that data can break boundaries significance to our industry.\\nthings differently and are willing to push against and benefit humanity, which is why we are heavily\\nconvention to improve outcomes: pioneering through invested in projects and actions that improve outcomes Although our Elastaclouders are widely spread\\ndata to deliver more sustainable operations and elevate for individuals and the planet. One way we do this is by geographically, we are united by a culture of pioneering for\\nour clients with a competitive advantage and commercial empowering our Elastaclouders to contribute to the wider the greater good: harnessing data to break boundaries and\\nedge. Whatever their objectives – from sustainability community through sharing their digital skills. benefit our people and our world.OUR BRAND BOILERPLATES\\nBoilerplate - short version (60 words)\\nElastacloud are data pioneers, designing and delivering world-class,\\nenterprise-grade solutions that unleash the power hidden within data.\\nUnited by a culture of pioneering for the greater good, we fuse data\\nscience, intelligence, and innovation, to enable businesses to accelerate\\ntransformation, achieve strategic outcomes, meet goals faster, and\\nbenefit from the game-changing insights that their data can provide.\\nBoilerplate - longer version (409 words)\\nbrands. We are highly respected and accomplished leaders in the data\\nElastacloud are data pioneers, unleashing the power hidden within data industry: our co-founders are recognised as Microsoft Regional Directors,\\nthrough the design and implementation of world-class, enterprise-grade alongside our team of Microsoft Most Valuable Professionals and Databricks\\nsolutions. Through advanced analytics, data science, best practice Champions.\\ndevelopment in AI and cloud data architectures – as well as research and\\ndevelopment of sustainable business practice and green technologies – we Although our people are widely spread geographically, we are united by\\npioneer through data to deliver accelerated transformational outcomes and a culture of pioneering for the greater good: harnessing data to break\\ngame-changing insights, fast. We are accelerators, empowering businesses boundaries and benefit humanity and the planet. We love to solve big\\nto get where they’re going securely, cost-effectively, and more quickly – often problems and give people the freedom to experiment, learn quickly, and share\\ndeploying within weeks, not months or years. ideas with others.\\nOur core competencies are in design and delivery of enterprise data platform We see ourselves as challengers and disruptors, even maverick at times.\\nand AI solutions: We are not afraid of the unconventional and encourage our teams to take\\non big challenges that could fail, so we can learn and continue striving for\\nEnterprise Data Platform delivery breakthrough outcomes.\\nAzure Architecture We’re always searching for the beauty in data, operating at a granular level\\nand getting ‘up-close and personal’ with it, so that we are able to identify and\\nMachine Learning Operations\\nunlock the gateways that sit in plain sight. We look at every challenge from\\nmultiple perspectives, never losing sight of the bigger picture or of both micro\\nDigital Twins and IoT\\nand macro points of view.\\nSustainability Solutions and Reporting\\nJust like our founders have always done, we look at things differently and are\\nwilling to push against convention to improve outcomes: pioneering through\\nIntelligent Apps and Enterprise Search Development\\ndata to deliver more sustainable operations and elevate our clients with a\\nWeb and BI Data Visualisation competitive advantage and commercial edge. Whatever their objectives –\\nfrom sustainability and growth to transformation – we push the boundaries\\nThe Elastacloud team consists of some of the finest data technologists\\nof possibility with a revolutionary approach and steely determination to\\naround, and serve as strategic advisors to several of the world’s leading\\nunshackle their data and harness the opportunities it offers.OUR LOGO\\nOur logo shows two data squares dropping into, or emanating\\nfrom the E of our name. This is to represent how we unleash\\nthe power and opportunity hidden in plain sight within data,\\nto elevate businesses, accelerate transformation and deliver\\ngame-changing insights and outcomes.\\nOur logo is one of the ways that people will recognise us.\\nIt is a valuable asset to our business and must not be\\naltered, re-shaped, redrawn or used in any other colours or\\napplications other than as shown within this brand book.\\nThere are three acceptable colour variants for our logo -\\nno other variations can be used or created.\\nWhen placing the logo against a solid colour background,\\nuse only the corresponding colour combinations shown here.\\nWhen placing the logo on top of a photograph, please use\\nthe version that achieves the greatest legibility.OUR ICON\\nOur E icon is a valuable asset to our business and must not\\nbe altered, re-shaped, redrawn or used in any other colours or\\napplications other than as shown within this brand book.\\nThe E icon can be used as an avatar or profile image, or when\\nthere is not enough space to include the entire logo.\\nThere are three acceptable colour variants for our E icon -\\nno other variations can be used or created.\\nWhen placing the E icon against a solid colour background,\\nuse only the corresponding colour combinations shown here.\\nWhen placing the E icon on top of a photograph, please use\\nthe version that achieves the greatest legibility.OUR STRAPLINE\\nOur strapline is ‘Pioneering Through Data’ and this can be used as a logo lock-up as shown here.RESPECTING OUR LOGO\\nWhen using the logo, there is a minimum amount of\\nclear space (the exclusion zone) that must always\\nbe left around the logo. Nothing else should ever\\nencroach within this space. This area is equivalent\\nto the E icon as illustrated on this page.\\nMinimum width: 25mm\\nThe minimum sizes that the logo can be used are\\nset at 25mm for print applications and 100px for\\ndigital applications.\\nTo ensure the logo is always legible and accessible,\\nespecially with printed materials, our logo should\\nnever appear at sizes smaller than this. Minimum width: 100pxDo not use the wrong colour variation Do not add a drop shadow\\nKEEPING OUR LOGO TRUE\\nDo not change the opacity Do not change the colours\\nDo not squeeze or stretch Do not use on an angle\\nWe’re very proud of our logo and this brand book helps us\\nto ensure there is always consistency in the way it is used.\\nPlease only ever use the logo in the correct colours and fonts\\nas outlined within this document and never distort or change\\nany part of it. We must ensure that our logo always looks as\\ngood as we intended it to, across everything we do.', start_char_idx=None, end_char_idx=None, text_template='{metadata_str}\\n\\n{content}', metadata_template='{key}: {value}', metadata_seperator='\\n'), score=0.7531550808336115)], metadata={'5a773191-7330-45c5-b33b-861abf518e76': {}, '044e2f22-f3db-4698-bb31-5a4ea2d21256': {}})>"
      ]
     },
     "execution_count": 15,
     "metadata": {},
     "output_type": "execute_result"
    }
   ],
   "source": [
    "response.get_formatted_sources"
   ]
  },
  {
   "cell_type": "code",
   "execution_count": 16,
   "metadata": {},
   "outputs": [
    {
     "data": {
      "text/plain": [
       "NodeWithScore(node=TextNode(id_='044e2f22-f3db-4698-bb31-5a4ea2d21256', embedding=None, metadata={}, excluded_embed_metadata_keys=[], excluded_llm_metadata_keys=[], relationships={<NodeRelationship.SOURCE: '1'>: RelatedNodeInfo(node_id='6739222c-6c0a-4eef-9095-b8a4d9076524', node_type=<ObjectType.DOCUMENT: '4'>, metadata={}, hash='c5ac0d8386bb12226c1165daffb9772cb7b9fe65d96348023933eba1df32bbff'), <NodeRelationship.NEXT: '3'>: RelatedNodeInfo(node_id='5a773191-7330-45c5-b33b-861abf518e76', node_type=<ObjectType.TEXT: '1'>, metadata={}, hash='c9dd24bd532a4a9acf53d696ce101ef1060b7e4f69e7d5c7c6b6497d5278c995')}, hash='45201f4ed06273264bcd39c3634129ae93e07943c8c6677d30f31b1259521fbc', text='BRAND BOOK\\nV4\\nMarch 2023WHO WE ARE\\nOUR VISION\\nGlobal industry transformation through data and next generation AI\\nWe believe every business has immense power in its data. The power to unlock growth, to unleash intelligence, and to accelerate\\noutcomes – responsibly, and with the help of AI.\\nWe’re playing in a new game –where data is the fuel for your future growth, and AI is the accelerator to your destination.\\nIn this new era of AI, the power of data and AI is no longer limited to the few companies with skilled data scientists and experts.\\nNow, every business has opportunities to do things better, smarter, faster – to become more intelligent.\\nElastacloud will lead this new era and help democratise intelligence – empowering businesses to grow sustainably –\\nby unleashing the power of their data with intelligent solutions and services.\\nOUR MISSION\\nTo pioneer through data for the greater good\\n– utilising cutting-edge data science and intelligence to create a better, more connected, and sustainable world.\\nOUR VALUES\\nPioneering through data and next generation AI\\nTrust and transparency\\nAccountability\\nCommunity and sustainability\\nDiversity and inclusionWHO WE ARE\\nOUR BRAND POSITIONING\\nElastacloud are data pioneers and industry-leading innovators\\nwho challenge the limits of possibility to accelerate transformation and deliver\\ngame-changing insights and outcomes to some of the world’s leading brands.\\nWith a culture of pioneering for the greater good, and utilising cutting-edge data\\nscience and intelligence, we unleash the power and opportunity hidden within data\\nthrough the design and implementation of world-class, enterprise-grade solutions.\\nOUR BRAND PROPOSITION\\nUtilising pioneering techniques, data science, intelligence,\\nand innovation, we will unleash the power and opportunity\\nhidden within your data to accelerate transformation and deliver\\ngame-changing insights and outcomes to your business, fast.\\nOUR BRAND STRAPLINE\\nPioneering Through Data\\nOUR ELEVATOR PITCH\\nWe can unleash the hidden power within your data to\\nelevate your business, accelerate outcomes and deliver\\ngame-changing insights, fast.OUR FIVE CORE MESSAGES\\n1. We are data pioneers\\nThrough the design and implementation of world-class, enterprise-grade solutions, Elastacloud are\\npioneers in the way data is gathered, structured and harnessed. Our revolutionary approach and steely\\ndetermination to innovate, consistently delivers game-changing insights, outcomes and transformation.\\n2. We unleash the power of data\\nWhen it comes to data, we are masters in the art of the possible. Whatever the business objectives –\\nfrom sustainability and growth to transformation – our teams of technologists have the vision, knowledge,\\nand expertise to unleash the power and opportunity hidden within any data.\\n3. We accelerate transformational outcomes\\nElastacloud are accelerators, empowering businesses to get where they’re going faster, securely and\\ncost-effectively. Because we design and implement bespoke intelligence-led data solutions within weeks,\\nnot months or years, we deliver accelerated outcomes and transformation faster than anyone else.\\n4. We are trusted advisors\\nElastacloud serve as strategic partners to global brand leaders; employing some of the finest talent in\\nthe world to advise, innovate and embed cutting-edge, ground-breaking data science and intelligence.\\n5. We are a global community\\nAlthough our people are spread across the world, we are united by a culture of pioneering for the greater\\ngood. We love to solve big problems and give people the freedom to experiment, learn quickly, and share\\nideas with others. We are not afraid of the unconventional and encourage our teams to take on big\\nchallenges that could fail, so we can learn and continue striving for breakthrough outcomes.OUR BRAND TONE OF VOICE / PERSONALITY\\nOverall, Elastacloud speaks with a voice that is confident, clear, We are collaborators and partners. This means we are flexible,\\ndirect and concise: always cutting through noise and conveying a clever co-operative, open-minded and non-judgemental. We are extremely\\nand playful personality that builds rapport with each specific audience. ‘human’: friendly, approachable and accessible, not a faceless digital\\nLanguage should be tailored to reflect and be appropriate to whomever behemoth. We are proud of our playful, creative, sometimes quirky\\nis being communicated to, for example the business decision maker culture and personality.\\nversus the tech decision maker.\\nWe are ‘woke’, passionate and caring. We genuinely believe that\\nWe are trustworthy and dependable, and that can be validated by data can be used to build a better world and to improve outcomes\\nsome of the accolades we have received and brand names we have as on a local and global scale. We want to be a force for good and we\\nclients. But we need to give people reason to trust and believe what we lead by example. We care deeply about the welfare of our planet and\\nsay by demonstrating our knowledge and leader role in the industry. humanity, firmly believing that we have an important role to play.\\nWe are successful, knowledgeable, expert, respected by our industry The language we use shouldn’t be overly jargon-heavy although\\npeers, accomplished and self-assured… but we must never sound the audience will generally be knowledgeable in the fields of data\\n‘cocksure’ or arrogant. and technology so needs to be respectful and mindful of that (not\\ncondescending or too dumbed down). Text needs to talk the language\\nWe call ourselves pioneers because we are brave, bold, adventurous,\\nof CIOs and data professionals, but also give them the language to\\ncurious and always willing to challenge. We see ourselves as disruptors,\\nspeak to their CEO, CFO, Sustainability Officer or ESG Committee.\\neven maverick at times, and some might describe us as anti-\\nIt must strike a balance between clarity and over-simplification.\\nestablishment. We don’t just accept things as they are if we believe\\nthere is a better way to do things, but we are never belligerent or We always speak in the plural (we, us, ‘what we do’, ‘who we are’).\\naggressive. Determined with self-belief yes, rail-roading never. We can however refer to ourselves as Elastacloud and Elastaclouders.OUR BRAND STORY\\nWe’re pioneering through data and growth to transformation – we push the boundaries For well over a decade, Elastacloud has established and\\nof possibility with a revolutionary approach and steely maintained various industry user groups: joining together\\nElastacloud have always been data pioneers: unleashing determination to unshackle their data and harness the more than 12,000 people around the world for community-\\nthe power hidden within data through the design and opportunities it offers. based learning and innovation. This includes one of the\\nimplementation of world-class, enterprise-grade solutions. largest data science communities in Europe.\\nWe are accelerators, empowering businesses to get where We’re always searching for the beauty in data, operating\\nthey’re going securely, cost-effectively, and faster – often at a granular level and getting ‘up-close’ with it, so that We are also proud to sponsor computer labs at Shanti\\ndeploying within days and weeks, not months or years. we are able to identify and unlock the gateways that sit Bhavan, a residential school in India for children born into\\nin plain sight. We look at every challenge from multiple the lowest socioeconomic class, which aims to uplift from\\nOur founders, Richard Conway and Andy Cross were the perspectives, never losing sight of the bigger picture or of poverty through education and opportunity. Our team in\\nfirst pioneers; sharing an extraordinary talent for finding both micro and macro points of view. India run coding labs for the students there, sometimes\\nthe hidden power and untapped opportunities in data and held in the Elastacloud offices.\\nthen unleashing its potential. If anyone said “it can’t be We love to solve big problems and give people the freedom\\ndone”, they said “just watch us”, challenged the limits of to experiment, learn quickly, and share ideas with others. Elastacloud has a deeply embedded commitment to\\nwhat ‘other experts’ claimed was possible and usually did We see ourselves as challengers and disruptors, even inclusivity, support, collaboration, nurturing and valuing\\nit faster than anyone else. maverick at times. We are not afraid of the unconventional its people. Across the world, we actively encourage\\nand encourage our teams to take on big challenges Elastaclouders to find a healthy balance of work and\\nThrough advanced analytics, data science, best practice that could fail, so we can learn and continue striving for personal life: promoting time for self, family and friends,\\ndevelopment in AI and cloud data architectures – as well breakthrough outcomes. for leisure and wellbeing. In India for example, we\\nas research and development of sustainable business don’t allow our teams to consistently work outside of\\npractice and green technologies – Elastacloud continue to We champion shared experience, innovation, collaboration, standard operating hours, despite this generally being\\npioneer through data to deliver accelerated transformation imagination, creativity, adventure, and opportunity. This is the expectation that people experience within Indian\\nand game-changing insights and outcomes, fast. because we actively encourage our people to look for bold, corporate culture.\\nalternative, and creative solutions – not just in delivery of\\nThe Elastacloud way our ground-breaking, data solutions for clients, but also We take on graduates and experienced individuals from\\nthrough our unconventional recognition of the importance all over (including from Shanti Bhavan) who possess the\\nSince 2011, we have been building our commitment to of play and imagination. passion and mindset to make a difference. ‘Elastaclouders’\\ninnovation, intelligent solutions and accelerated outcomes are encouraged to invest at least an hour of their own time\\nOne example of this is the way that Elastaclouders working\\ninto a global business with teams of over 300 data experts each month to mentor and support children, teaching them\\nacross four countries are encouraged to participate\\nacross the UK, Spain, Brazil and India. how to code and advance their IT literacy. This instils our\\nand compete in company-wide ‘Dungeons & Dragons’\\ngraduates with a sense of community: ensuring that our\\nWe generally refer to our team members as tournaments, run by our own in-house Dungeon Master. values are passed on to more people and helping to embed\\n‘Elastaclouders’. Our Elastaclouders consist of some of Such gameplay enhances ‘out-of-the-box’ thinking, problem sustainable social equity within the technologies we work in.\\nthe finest data technologist talent around, and serve as solving and confidence building as well as strengthening\\nstrategic advisors to several of the world’s leading brands. relationships between teams. Since 2020, Elastacloud has been a foundation sponsor of\\nWe are highly respected and accomplished leaders in the The National Museum of Computing, which is based on the\\nIt’s all of this combined that gives us a unique ‘magic sauce’.\\ndata industry, with Richard and Andy recognised as present famous Bletchley Park estate where the Enigma code was\\nMicrosoft Regional Directors and retired Microsoft Most cracked, turning the tide of the war. We’re active in a wide\\nValuable Professionals. A culture of giving back variety of events and activities at this inspiring educational\\nvenue; one that carries so much historical value and\\nJust like our founders have always done, we look at Elastacloud firmly believes that data can break boundaries significance to our industry.\\nthings differently and are willing to push against and benefit humanity, which is why we are heavily\\nconvention to improve outcomes: pioneering through invested in projects and actions that improve outcomes Although our Elastaclouders are widely spread\\ndata to deliver more sustainable operations and elevate for individuals and the planet. One way we do this is by geographically, we are united by a culture of pioneering for\\nour clients with a competitive advantage and commercial empowering our Elastaclouders to contribute to the wider the greater good: harnessing data to break boundaries and\\nedge. Whatever their objectives – from sustainability community through sharing their digital skills. benefit our people and our world.OUR BRAND BOILERPLATES\\nBoilerplate - short version (60 words)\\nElastacloud are data pioneers, designing and delivering world-class,\\nenterprise-grade solutions that unleash the power hidden within data.\\nUnited by a culture of pioneering for the greater good, we fuse data\\nscience, intelligence, and innovation, to enable businesses to accelerate\\ntransformation, achieve strategic outcomes, meet goals faster, and\\nbenefit from the game-changing insights that their data can provide.\\nBoilerplate - longer version (409 words)\\nbrands. We are highly respected and accomplished leaders in the data\\nElastacloud are data pioneers, unleashing the power hidden within data industry: our co-founders are recognised as Microsoft Regional Directors,\\nthrough the design and implementation of world-class, enterprise-grade alongside our team of Microsoft Most Valuable Professionals and Databricks\\nsolutions. Through advanced analytics, data science, best practice Champions.\\ndevelopment in AI and cloud data architectures – as well as research and\\ndevelopment of sustainable business practice and green technologies – we Although our people are widely spread geographically, we are united by\\npioneer through data to deliver accelerated transformational outcomes and a culture of pioneering for the greater good: harnessing data to break\\ngame-changing insights, fast. We are accelerators, empowering businesses boundaries and benefit humanity and the planet. We love to solve big\\nto get where they’re going securely, cost-effectively, and more quickly – often problems and give people the freedom to experiment, learn quickly, and share\\ndeploying within weeks, not months or years. ideas with others.\\nOur core competencies are in design and delivery of enterprise data platform We see ourselves as challengers and disruptors, even maverick at times.\\nand AI solutions: We are not afraid of the unconventional and encourage our teams to take\\non big challenges that could fail, so we can learn and continue striving for\\nEnterprise Data Platform delivery breakthrough outcomes.\\nAzure Architecture We’re always searching for the beauty in data, operating at a granular level\\nand getting ‘up-close and personal’ with it, so that we are able to identify and\\nMachine Learning Operations\\nunlock the gateways that sit in plain sight. We look at every challenge from\\nmultiple perspectives, never losing sight of the bigger picture or of both micro\\nDigital Twins and IoT\\nand macro points of view.\\nSustainability Solutions and Reporting\\nJust like our founders have always done, we look at things differently and are\\nwilling to push against convention to improve outcomes: pioneering through\\nIntelligent Apps and Enterprise Search Development\\ndata to deliver more sustainable operations and elevate our clients with a\\nWeb and BI Data Visualisation competitive advantage and commercial edge. Whatever their objectives –\\nfrom sustainability and growth to transformation – we push the boundaries\\nThe Elastacloud team consists of some of the finest data technologists\\nof possibility with a revolutionary approach and steely determination to\\naround, and serve as strategic advisors to several of the world’s leading\\nunshackle their data and harness the opportunities it offers.OUR LOGO\\nOur logo shows two data squares dropping into, or emanating\\nfrom the E of our name. This is to represent how we unleash\\nthe power and opportunity hidden in plain sight within data,\\nto elevate businesses, accelerate transformation and deliver\\ngame-changing insights and outcomes.\\nOur logo is one of the ways that people will recognise us.\\nIt is a valuable asset to our business and must not be\\naltered, re-shaped, redrawn or used in any other colours or\\napplications other than as shown within this brand book.\\nThere are three acceptable colour variants for our logo -\\nno other variations can be used or created.\\nWhen placing the logo against a solid colour background,\\nuse only the corresponding colour combinations shown here.\\nWhen placing the logo on top of a photograph, please use\\nthe version that achieves the greatest legibility.OUR ICON\\nOur E icon is a valuable asset to our business and must not\\nbe altered, re-shaped, redrawn or used in any other colours or\\napplications other than as shown within this brand book.\\nThe E icon can be used as an avatar or profile image, or when\\nthere is not enough space to include the entire logo.\\nThere are three acceptable colour variants for our E icon -\\nno other variations can be used or created.\\nWhen placing the E icon against a solid colour background,\\nuse only the corresponding colour combinations shown here.\\nWhen placing the E icon on top of a photograph, please use\\nthe version that achieves the greatest legibility.OUR STRAPLINE\\nOur strapline is ‘Pioneering Through Data’ and this can be used as a logo lock-up as shown here.RESPECTING OUR LOGO\\nWhen using the logo, there is a minimum amount of\\nclear space (the exclusion zone) that must always\\nbe left around the logo. Nothing else should ever\\nencroach within this space. This area is equivalent\\nto the E icon as illustrated on this page.\\nMinimum width: 25mm\\nThe minimum sizes that the logo can be used are\\nset at 25mm for print applications and 100px for\\ndigital applications.\\nTo ensure the logo is always legible and accessible,\\nespecially with printed materials, our logo should\\nnever appear at sizes smaller than this. Minimum width: 100pxDo not use the wrong colour variation Do not add a drop shadow\\nKEEPING OUR LOGO TRUE\\nDo not change the opacity Do not change the colours\\nDo not squeeze or stretch Do not use on an angle\\nWe’re very proud of our logo and this brand book helps us\\nto ensure there is always consistency in the way it is used.\\nPlease only ever use the logo in the correct colours and fonts\\nas outlined within this document and never distort or change\\nany part of it. We must ensure that our logo always looks as\\ngood as we intended it to, across everything we do.', start_char_idx=None, end_char_idx=None, text_template='{metadata_str}\\n\\n{content}', metadata_template='{key}: {value}', metadata_seperator='\\n'), score=0.7531550808336115)"
      ]
     },
     "execution_count": 16,
     "metadata": {},
     "output_type": "execute_result"
    }
   ],
   "source": [
    "response.source_nodes[1]"
   ]
  },
  {
   "cell_type": "markdown",
   "metadata": {},
   "source": [
    "## PDF retrieval tool"
   ]
  },
  {
   "cell_type": "code",
   "execution_count": 19,
   "metadata": {},
   "outputs": [
    {
     "name": "stdout",
     "output_type": "stream",
     "text": [
      "Content:\n",
      " A culture of giving back\n",
      "Elastacloud firmly believes that data can break boundaries \n",
      "and benefit humanity, which is why we are heavily \n",
      "invested in projects and actions that improve outcomes \n",
      "for individuals and the planet. One way we do this is by \n",
      "empowering our Elastaclouders to contribute to the wider \n",
      "community through sharing their digital skills.For well over a decade, Elastacloud has established and \n",
      "maintained various industry user groups: joining together \n",
      "more than 12,000 people around the world for community-\n",
      "based learning and innovation. This includes one of the \n",
      "largest data science communities in Europe.\n",
      "We are also proud to sponsor computer labs at Shanti \n",
      "Bhavan, a residential school in India for children born into \n",
      "the lowest socioeconomic class, which aims to uplift from \n",
      "poverty through education and opportunity. Our team in \n",
      "India run coding labs for the students there, sometimes \n",
      "held in the Elastacloud offices. \n",
      "Elastacloud has a deeply embedded commitment to \n",
      "inclusivity, support, collaboration, nurturing and valuing \n",
      "its people. Across the world, we actively encourage \n",
      "Elastaclouders to find a healthy balance of work and \n",
      "personal life: promoting time for self, family and friends, \n",
      "for leisure and wellbeing. In India for example, we  \n",
      "don’t allow our teams to consistently work outside of \n",
      "standard operating hours, despite this generally being  \n",
      "the expectation that people experience within Indian \n",
      "corporate culture.\n",
      "We take on graduates and experienced individuals from \n",
      "all over (including from Shanti Bhavan) who possess the \n",
      "passion and mindset to make a difference. ‘Elastaclouders’ \n",
      "are encouraged to invest at least an hour of their own time \n",
      "each month to mentor and support children, teaching them \n",
      "how to code and advance their IT literacy. This instils our \n",
      "graduates with a sense of community: ensuring that our \n",
      "values are passed on to more people and helping to embed \n",
      "sustainable social equity within the technologies we work in. \n",
      "Since 2020, Elastacloud has been a foundation sponsor of \n",
      "The National Museum of Computing, which is based on the \n",
      "famous Bletchley Park estate where the Enigma code was \n",
      "cracked, turning the tide of the war. We’re active in a wide \n",
      "variety of events and activities at this inspiring educational \n",
      "venue; one that carries so much historical value and \n",
      "significance to our industry. \n",
      "Although our Elastaclouders are widely spread \n",
      "geographically, we are united by a culture of pioneering for \n",
      "the greater good: harnessing data to break boundaries and \n",
      "benefit our people and our world. \n",
      " metadata:\n",
      " {'source': '../data/example/Elastacloud-Brand-Book.pdf', 'page': 5}\n"
     ]
    }
   ],
   "source": [
    "# read a pdf and answers question on it\n",
    "from langchain.document_loaders import PyPDFLoader\n",
    "\n",
    "loader = PyPDFLoader(\"../data/example/Elastacloud-Brand-Book.pdf\")\n",
    "pages = loader.load_and_split()\n",
    "# check the metadata\n",
    "pg_no=6\n",
    "print(f\"Content:\\n {pages[pg_no].page_content} \\n metadata:\\n {pages[pg_no].metadata}\")"
   ]
  },
  {
   "cell_type": "code",
   "execution_count": 23,
   "metadata": {},
   "outputs": [],
   "source": [
    "import os\n",
    "from langchain.chat_models import ChatOpenAI\n",
    "from langchain.chains.combine_documents.stuff import StuffDocumentsChain\n",
    "from langchain.prompts import PromptTemplate\n",
    "from langchain.chains import create_qa_with_sources_chain\n",
    "from langchain.embeddings import SentenceTransformerEmbeddings\n",
    "from langchain.vectorstores import Chroma\n",
    "\n",
    "\n",
    "# create the open-source embedding function\n",
    "embedding_function = SentenceTransformerEmbeddings(model_name=\"all-MiniLM-L6-v2\")\n",
    "\n",
    "# load it into Chroma\n",
    "db = Chroma.from_documents(pages, embedding_function)"
   ]
  },
  {
   "cell_type": "code",
   "execution_count": 55,
   "metadata": {},
   "outputs": [],
   "source": [
    "import os\n",
    "from langchain.chat_models import ChatOpenAI\n",
    "from langchain.chains.combine_documents.stuff import StuffDocumentsChain\n",
    "from langchain.prompts import PromptTemplate\n",
    "from langchain.chains import create_qa_with_sources_chain, RetrievalQA\n",
    "from langchain.embeddings import SentenceTransformerEmbeddings\n",
    "from langchain.vectorstores import Chroma\n",
    "\n",
    "\n",
    "# create the open-source embedding function\n",
    "embedding_function = SentenceTransformerEmbeddings(model_name=\"all-MiniLM-L6-v2\")\n",
    "\n",
    "# load it into Chroma\n",
    "db = Chroma.from_documents(pages, embedding_function)\n",
    "\n",
    "\n",
    "llm_src = ChatOpenAI(temperature=0, model=\"gpt-3.5-turbo-0613\")\n",
    "\n",
    "qa_chain = create_qa_with_sources_chain(llm_src)\n",
    "\n",
    "doc_prompt = PromptTemplate(\n",
    "    template=\"Content: {page_content}\\n Source: {source} - page {page}\", # look at the prompt does have page#\n",
    "    input_variables=[\"page_content\", \"source\", \"page\"],\n",
    ")\n",
    "\n",
    "final_qa_chain = StuffDocumentsChain(\n",
    "    llm_chain=qa_chain, \n",
    "    document_variable_name='context',\n",
    "    document_prompt=doc_prompt,\n",
    ")\n",
    "retrieval_qa = RetrievalQA(\n",
    "    retriever=db.as_retriever(),\n",
    "    combine_documents_chain=final_qa_chain\n",
    ")"
   ]
  },
  {
   "cell_type": "code",
   "execution_count": 56,
   "metadata": {},
   "outputs": [
    {
     "name": "stdout",
     "output_type": "stream",
     "text": [
      "{\n",
      "  \"answer\": \"The mission of Elastacloud is to be data pioneers, unleashing the power of data, accelerating transformational outcomes, serving as trusted advisors, and fostering a global community.\",\n",
      "  \"sources\": [\"../data/example/Elastacloud-Brand-Book.pdf - page 3\"]\n",
      "}\n"
     ]
    }
   ],
   "source": [
    "\n",
    "query = \"What is EC Mission?\"\n",
    "\n",
    "answer_1 = retrieval_qa.run(query)\n",
    "print(answer_1)"
   ]
  },
  {
   "cell_type": "markdown",
   "metadata": {},
   "source": [
    "## LLM call"
   ]
  },
  {
   "cell_type": "code",
   "execution_count": null,
   "metadata": {},
   "outputs": [],
   "source": [
    "input = relevant_text\n",
    "\n",
    "json_template = json.dumps({ \n",
    "    \"Test Type\": \"<FIT or LOT>\",\n",
    "    \"Casing Shoe\": \"<Casing shoe size>\",\n",
    "    \"TVD (m)\": \"TVD in meters\",\n",
    "    \"Surface pressure (psi)\": \"<MW value in sg>\",\n",
    "    \"MW (sg)\": \"<MW value in sg>\",\n",
    "    \"EMW (sg)\": \"<EMW value in sg. Calculated as: EMW = MW + (P-FIT / (TVD-shoe * 1.421))>\"\n",
    "})\n",
    "\n",
    "system = f\"\"\"\n",
    "You are an API that given a text extracted using OCR from an End of Well Report will extract Formation Integrity Test (FIT) and Leak Off Test (LOT) results.\n",
    "Your response will be a JSON with as many entries as needed in the format {json_template}\n",
    "If there is a field that you can not find, set it a null.\n",
    "If the document has any kind of errors or is corrupted, add a field {{\"errors\": \"<error description>\"}}\n",
    "If there is any additional information of feedback from the infromation extraction, add a {{\"notes\": \"<additional-information>\"}}\n",
    "\n",
    "The format of your input will be the text of the relevant page.\n",
    "\"\"\"\n",
    "\n",
    "config = {\n",
    "    \"temperature\": 0.2,\n",
    "    \"max_tokens\": 512,\n",
    "    \"top_p\": 1,\n",
    "}\n",
    "\n",
    "response = openai.ChatCompletion.create(\n",
    "    model=\"gpt-3.5-turbo\",\n",
    "    messages=[\n",
    "      {\"role\": \"system\", \"content\": system},\n",
    "      {\"role\": \"user\", \"content\": input},\n",
    "    ],\n",
    "    temperature=config[\"temperature\"],\n",
    "    max_tokens=config[\"max_tokens\"],\n",
    "    top_p=config[\"top_p\"],\n",
    "  )\n",
    "\n",
    "print(response.get(\"choices\")[0][\"message\"][\"content\"])"
   ]
  },
  {
   "cell_type": "code",
   "execution_count": 241,
   "metadata": {},
   "outputs": [
    {
     "name": "stdout",
     "output_type": "stream",
     "text": [
      "{\"text\": \"Formation Integrity Test (FIT)\\n\\nCasing Shoe: 10000 ft\\nTVD (m): 3000\\nSurface pressure (psi): 5000\\nMW (sg): 1.2\\n\\nLeak Off Test (LOT)\\n\\nCasing Shoe: 10000 ft\\nTVD (m): 3000\\nSurface pressure (psi): 5000\\nMW (sg): 1.2\\nEMW (sg): 1.3\"}\n"
     ]
    }
   ],
   "source": [
    "input = relevant_text\n",
    "\n",
    "json_template = json.dumps({ \n",
    "    \"Test Type\": \"<FIT or LOT>\",\n",
    "    \"Casing Shoe\": \"<Casing shoe size>\",\n",
    "    \"TVD (m)\": \"TVD in meters\",\n",
    "    \"Surface pressure (psi)\": \"<MW value in sg>\",\n",
    "    \"MW (sg)\": \"<MW value in sg>\",\n",
    "    \"EMW (sg)\": \"<EMW value in sg. Calculated as: EMW = MW + (P-FIT / (TVD-shoe * 1.421))>\"\n",
    "})\n",
    "\n",
    "system = f\"\"\"\n",
    "You are an API that given a text extracted using OCR from an End of Well Report will extract Formation Integrity Test (FIT) and Leak Off Test (LOT) results.\n",
    "Your response will be a JSON with as many entries as needed in the format {json_template}\n",
    "If there is a field that you can not find, set it a null.\n",
    "If the document has any kind of errors or is corrupted, add a field {{\"errors\": \"<error description>\"}}\n",
    "If there is any additional information of feedback from the infromation extraction, add a {{\"notes\": \"<additional-information>\"}}\n",
    "\n",
    "The format of your input will be the text of the relevant page.\n",
    "\"\"\"\n",
    "\n",
    "config = {\n",
    "    \"temperature\": 0.2,\n",
    "    \"max_tokens\": 512,\n",
    "    \"top_p\": 1,\n",
    "}\n",
    "\n",
    "response = openai.ChatCompletion.create(\n",
    "    model=\"gpt-3.5-turbo-16k\",\n",
    "    messages=[\n",
    "      {\"role\": \"system\", \"content\": system},\n",
    "      {\"role\": \"user\", \"content\": input},\n",
    "    ],\n",
    "    temperature=config[\"temperature\"],\n",
    "    max_tokens=config[\"max_tokens\"],\n",
    "    top_p=config[\"top_p\"],\n",
    "  )\n",
    "\n",
    "print(response.get(\"choices\")[0][\"message\"][\"content\"])"
   ]
  },
  {
   "cell_type": "markdown",
   "metadata": {},
   "source": [
    "Good enough with 16k, let's check with form recogniser and see "
   ]
  },
  {
   "cell_type": "code",
   "execution_count": null,
   "metadata": {},
   "outputs": [],
   "source": [
    "len(encoder.encode(extracted_text[\"content\"]))"
   ]
  },
  {
   "cell_type": "code",
   "execution_count": null,
   "metadata": {},
   "outputs": [],
   "source": [
    "input = extracted_text[\"content\"]\n",
    "\n",
    "json_template = json.dumps({ \n",
    "    \"Test Type\": \"<FIT or LOT>\",\n",
    "    \"Casing Shoe\": \"<Casing shoe size>\",\n",
    "    \"TVD (m)\": \"TVD in meters\",\n",
    "    \"Surface pressure (psi)\": \"<MW value in sg>\",\n",
    "    \"EMW (sg)\": \"<EMW value in sg>\"\n",
    "})\n",
    "\n",
    "system = f\"\"\"\n",
    "You are an API that given a text extracted using OCR from an End of Well Report will extract Formation Integrity Test (FIT) and Leak Off Test (LOT) results.\n",
    "There can be multiple tests per shoe size and depth, please report them all.\n",
    "Your response will be a JSON with one entry per test in the format {json_template}.\n",
    "If there is a field that you can not find, set it a null.\n",
    "If the document has any kind of errors or is corrupted, add a field {{\"errors\": \"<error description>\"}}\n",
    "If there is any additional information of feedback from the infromation extraction, add a {{\"notes\": \"<additional-information>\"}}\n",
    "\n",
    "The format of your input will be the text of the relevant page.\n",
    "\"\"\"\n",
    "\n",
    "config = {\n",
    "    \"temperature\": 0.2,\n",
    "    \"max_tokens\": 512,\n",
    "    \"top_p\": 1,\n",
    "}\n",
    "\n",
    "response = openai.ChatCompletion.create(\n",
    "    model=\"gpt-3.5-turbo-16k\",\n",
    "    messages=[\n",
    "      {\"role\": \"system\", \"content\": system},\n",
    "      {\"role\": \"user\", \"content\": input},\n",
    "    ],\n",
    "    temperature=config[\"temperature\"],\n",
    "    max_tokens=config[\"max_tokens\"],\n",
    "    top_p=config[\"top_p\"],\n",
    "  )\n",
    "\n",
    "print(response.get(\"choices\")[0][\"message\"][\"content\"])"
   ]
  },
  {
   "cell_type": "markdown",
   "metadata": {},
   "source": [
    "# Implementing Llama Index "
   ]
  },
  {
   "cell_type": "code",
   "execution_count": 244,
   "metadata": {},
   "outputs": [],
   "source": [
    "from llama_index import VectorStoreIndex, SimpleDirectoryReader"
   ]
  },
  {
   "cell_type": "code",
   "execution_count": 245,
   "metadata": {},
   "outputs": [],
   "source": [
    "documents = SimpleDirectoryReader(\"../llama_dir/\").load_data()"
   ]
  },
  {
   "cell_type": "code",
   "execution_count": 246,
   "metadata": {},
   "outputs": [],
   "source": [
    "index = VectorStoreIndex.from_documents(documents)"
   ]
  },
  {
   "cell_type": "code",
   "execution_count": 247,
   "metadata": {},
   "outputs": [
    {
     "name": "stdout",
     "output_type": "stream",
     "text": [
      "The EMW of the FIT performed on the well 206/12a-3 is 1.75sg.\n"
     ]
    }
   ],
   "source": [
    "query_engine = index.as_query_engine()\n",
    "response = query_engine.query(\"what's the EMW of the FIT performed on the well 206/12a-3?\")\n",
    "print(response)"
   ]
  },
  {
   "cell_type": "code",
   "execution_count": 248,
   "metadata": {},
   "outputs": [
    {
     "name": "stdout",
     "output_type": "stream",
     "text": [
      "Two tests were performed on the well 206/12a-3.\n"
     ]
    }
   ],
   "source": [
    "query_engine = index.as_query_engine()\n",
    "response = query_engine.query(\"How many test where performend on the well 206/12a-3?\")\n",
    "print(response)"
   ]
  },
  {
   "cell_type": "code",
   "execution_count": 249,
   "metadata": {},
   "outputs": [
    {
     "name": "stdout",
     "output_type": "stream",
     "text": [
      "The LOT and FIT are reported on page 53 of the end of well 206/12a-3 report.\n"
     ]
    }
   ],
   "source": [
    "query_engine = index.as_query_engine()\n",
    "response = query_engine.query(\"In which page on the end of well 206/12a-3 report are the LOT and FIT reported?\")\n",
    "print(response)"
   ]
  },
  {
   "cell_type": "markdown",
   "metadata": {},
   "source": [
    "# LLama Index Approach"
   ]
  },
  {
   "cell_type": "code",
   "execution_count": null,
   "metadata": {},
   "outputs": [],
   "source": [
    "documents = SimpleDirectoryReader(\n",
    "    input_files=[path]\n",
    ").load_data()\n",
    "index = VectorStoreIndex.from_documents(documents)"
   ]
  },
  {
   "cell_type": "code",
   "execution_count": null,
   "metadata": {},
   "outputs": [],
   "source": [
    "query_engine = index.as_query_engine()\n",
    "response = query_engine.query(\"In which page are the LOT and FIT reported?\")\n",
    "print(response)"
   ]
  },
  {
   "cell_type": "code",
   "execution_count": 242,
   "metadata": {},
   "outputs": [],
   "source": [
    "json_template = json.dumps({\n",
    "    \"Test Type\": \"<FIT or LOT>\",\n",
    "    \"Casing Shoe\": \"<Casing shoe size>\",\n",
    "    \"TVD (m)\": \"TVD in meters\",\n",
    "    \"Surface pressure (psi)\": \"<Surface pressure value>\",\n",
    "    \"MW (sg)\": \"<MW value in sg>\",\n",
    "    \"EMW (sg)\": \"<EMW value in sg>\"\n",
    "})\n",
    "\n",
    "system = f\"\"\"\n",
    "You are an assistant that given a text extracted using OCR from an End of Well Report will extract 'Formation Integrity Test' (FIT) and 'Leak Off Test' (LOT) results.\n",
    "There can be multiple tests, report all of them.\n",
    "Write your output as a list with an entry with the format {json_template} per each test you find, separated by commas.\n",
    "If there is a field that you can not find, set it a null.\n",
    "If the document has any kind of errors or is corrupted, add a field {{\"errors\": \"<error description>\"}}\n",
    "If there is any additional information of feedback from the infromation extraction, add a {{\"notes\": \"<additional-information>\"}}\n",
    "\"\"\""
   ]
  },
  {
   "cell_type": "code",
   "execution_count": 243,
   "metadata": {},
   "outputs": [
    {
     "name": "stdout",
     "output_type": "stream",
     "text": [
      "{\"Test Type\": \"FIT\", \"Casing Shoe\": \"20\", \"TVD (m)\": \"536\", \"Surface pressure (psi)\": \"101.0\", \"MW (sg)\": \"1.15\", \"EMW (sg)\": \"1.26\"},\n",
      "{\"Test Type\": \"LOT\", \"Casing Shoe\": \"20\", \"TVD (m)\": \"536\", \"Surface pressure (psi)\": \"84.0\", \"MW (sg)\": \"1.15\", \"EMW (sg)\": \"1.26\"},\n",
      "{\"Test Type\": \"FIT\", \"Casing Shoe\": \"13 3/8\", \"TVD (m)\": null, \"Surface pressure (psi)\": \"328\", \"MW (sg)\": \"1.55\", \"EMW (sg)\": null},\n",
      "{\"Test Type\": \"LOT\", \"Casing Shoe\": \"13 3/8\", \"TVD (m)\": null, \"Surface pressure (psi)\": \"360\", \"MW (sg)\": \"1.55\", \"EMW (sg)\": null}\n"
     ]
    }
   ],
   "source": [
    "response = query_engine.query(system)\n",
    "print(response)"
   ]
  },
  {
   "cell_type": "markdown",
   "metadata": {},
   "source": [
    "# Loading data from Form Recogniser"
   ]
  },
  {
   "cell_type": "code",
   "execution_count": 228,
   "metadata": {},
   "outputs": [],
   "source": [
    "import io\n",
    "\n",
    "# OCR from base form recogniser\n",
    "def base_form_recogniser(pdf_bytes: io.BytesIO) -> dict:\n",
    "    document = pdf_bytes.getvalue()\n",
    "\n",
    "    # Start the document analysis\n",
    "    poller = document_analysis_client.begin_analyze_document(\"prebuilt-document\", document, polling_interval=5)\n",
    "\n",
    "    # Get the result\n",
    "    result = poller.result()\n",
    "    data = result.to_dict()\n",
    "    return data"
   ]
  },
  {
   "cell_type": "code",
   "execution_count": 229,
   "metadata": {},
   "outputs": [
    {
     "name": "stdout",
     "output_type": "stream",
     "text": [
      "4\n",
      "5\n",
      "8\n",
      "13\n",
      "15\n",
      "52\n",
      "53\n",
      "54\n"
     ]
    }
   ],
   "source": [
    "from PyPDF4 import PdfFileWriter, PdfFileReader\n",
    "\n",
    "inputpdf = PdfFileReader(open(path, \"rb\"))\n",
    "\n",
    "output = PdfFileWriter()\n",
    "\n",
    "relevant_text = \"\"\n",
    "\n",
    "with pdfplumber.open(path) as pdf:\n",
    "    for page in pdf.pages:\n",
    "        if page.search(\"FIT\") and page.search(\"LOT\"):\n",
    "            output.addPage(inputpdf.pages[page.page_number])\n",
    "            print(page.page_number)\n",
    "\n",
    "output_bytesio = io.BytesIO()\n",
    "\n",
    "output.write(output_bytesio)"
   ]
  },
  {
   "cell_type": "code",
   "execution_count": 230,
   "metadata": {},
   "outputs": [],
   "source": [
    "extracted_text = base_form_recogniser(output_bytesio)"
   ]
  },
  {
   "cell_type": "code",
   "execution_count": 231,
   "metadata": {},
   "outputs": [],
   "source": [
    "from llama_index import SimpleDirectoryReader, VectorStoreIndex, ServiceContext\n",
    "from llama_index.node_parser import SimpleNodeParser\n",
    "from llama_index import Document\n",
    "\n",
    "text_list = [extracted_text[\"content\"]]\n",
    "documents = [Document(text=t) for t in text_list]\n",
    "\n",
    "node_parser = SimpleNodeParser.from_defaults(chunk_size=4096, chunk_overlap=200)\n",
    "service_context = ServiceContext.from_defaults(node_parser=node_parser)\n",
    "\n",
    "index = VectorStoreIndex.from_documents(documents, service_context=service_context)\n",
    "query_engine = index.as_query_engine()"
   ]
  },
  {
   "cell_type": "code",
   "execution_count": 239,
   "metadata": {},
   "outputs": [],
   "source": [
    "json_template = json.dumps({\n",
    "    \"Test Type\": \"<FIT or LOT>\",\n",
    "    \"Casing Shoe\": \"<Casing shoe size>\",\n",
    "    \"TVD (m)\": \"TVD in meters\",\n",
    "    \"Surface pressure (psi)\": \"<Surface pressure value>\",\n",
    "    \"MW (sg)\": \"<MW value in sg>\",\n",
    "    \"EMW (sg)\": \"<EMW value in sg>\"\n",
    "})\n",
    "\n",
    "system = f\"\"\"\n",
    "You are an assistant that given a text extracted using OCR from an End of Well Report will extract 'Formation Integrity Test' (FIT) and 'Leak Off Test' (LOT) results.\n",
    "You must prioritize reporting the EMW value, meassured in sg.\n",
    "There can be multiple tests, report all of them.\n",
    "Write an entry with the format {json_template} per each test you find.\n",
    "If there is a field that you can not find, set it a null.\n",
    "If the document has any kind of errors or is corrupted, add a field {{\"errors\": \"<error description>\"}}\n",
    "If there is any additional information of feedback from the infromation extraction, add a {{\"notes\": \"<additional-information>\"}}\n",
    "\"\"\""
   ]
  },
  {
   "cell_type": "code",
   "execution_count": 240,
   "metadata": {},
   "outputs": [
    {
     "name": "stdout",
     "output_type": "stream",
     "text": [
      "{\"Test Type\": \"FIT\", \"Casing Shoe\": \"9 5/8\", \"TVD (m)\": \"2081.4\", \"Surface pressure (psi)\": \"null\", \"MW (sg)\": \"null\", \"EMW (sg)\": \"1.69\"}\n",
      "{\"Test Type\": \"LOT\", \"Casing Shoe\": \"null\", \"TVD (m)\": \"536\", \"Surface pressure (psi)\": \"84.0\", \"MW (sg)\": \"null\", \"EMW (sg)\": \"1.26\"}\n",
      "{\"Test Type\": \"LOT\", \"Casing Shoe\": \"null\", \"TVD (m)\": \"null\", \"Surface pressure (psi)\": \"null\", \"MW (sg)\": \"null\", \"EMW (sg)\": \"null\"}\n",
      "{\"Test Type\": \"FIT\", \"Casing Shoe\": \"13 3/8\", \"TVD (m)\": \"null\", \"Surface pressure (psi)\": \"null\", \"MW (sg)\": \"null\", \"EMW (sg)\": \"1.55\"}\n",
      "{\"Test Type\": \"FIT\", \"Casing Shoe\": \"null\", \"TVD (m)\": \"null\", \"Surface pressure (psi)\": \"null\", \"MW (sg)\": \"null\", \"EMW (sg)\": \"null\"}\n"
     ]
    }
   ],
   "source": [
    "response = query_engine.query(system)\n",
    "print(response)"
   ]
  },
  {
   "cell_type": "code",
   "execution_count": null,
   "metadata": {},
   "outputs": [],
   "source": []
  }
 ],
 "metadata": {
  "kernelspec": {
   "display_name": ".venv",
   "language": "python",
   "name": "python3"
  },
  "language_info": {
   "codemirror_mode": {
    "name": "ipython",
    "version": 3
   },
   "file_extension": ".py",
   "mimetype": "text/x-python",
   "name": "python",
   "nbconvert_exporter": "python",
   "pygments_lexer": "ipython3",
   "version": "3.11.5"
  },
  "orig_nbformat": 4
 },
 "nbformat": 4,
 "nbformat_minor": 2
}
