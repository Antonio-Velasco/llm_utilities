{
 "cells": [
  {
   "cell_type": "code",
   "execution_count": 4,
   "metadata": {},
   "outputs": [],
   "source": [
    "from langchain.agents.openai_assistant import OpenAIAssistantRunnable\n",
    "from langchain.chains import LLMChain\n",
    "import json\n",
    "import openai\n",
    "import os\n",
    "\n",
    "with open('../local_settings.json') as f:\n",
    "    data = json.load(f)\n",
    "\n",
    "os.environ['OPENAI_API_KEY'] = data['OPENAI_API_KEY']\n",
    "openai.api_key = os.environ['OPENAI_API_KEY']\n",
    "\n",
    "from openai import OpenAI\n",
    "client = OpenAI()"
   ]
  },
  {
   "cell_type": "code",
   "execution_count": 5,
   "metadata": {},
   "outputs": [],
   "source": [
    "interpreter_assistant = OpenAIAssistantRunnable.create_assistant(\n",
    "    name=\"langchain assistant\",\n",
    "    instructions=\"You are a personal math tutor. Write and run code to answer math questions.\",\n",
    "    tools=[{\"type\": \"code_interpreter\"}],\n",
    "    model=\"gpt-4-1106-preview\",\n",
    "    verbose=True\n",
    ")"
   ]
  },
  {
   "cell_type": "code",
   "execution_count": 7,
   "metadata": {},
   "outputs": [
    {
     "data": {
      "text/plain": [
       "[ThreadMessage(id='msg_Mf0Ktucj3u4jpE6lTBmKa7YJ', assistant_id='asst_rJUtRvQUN9yaql2JbESGrMOF', content=[MessageContentText(text=Text(annotations=[], value='2 raised to the power of 4 is 16.'), type='text')], created_at=1700967213, file_ids=[], metadata={}, object='thread.message', role='assistant', run_id='run_W4rvVARu8IAyYrC5lEP2o4Xr', thread_id='thread_4v48R1McUOi4pZCHxh04pLWb')]"
      ]
     },
     "execution_count": 7,
     "metadata": {},
     "output_type": "execute_result"
    }
   ],
   "source": [
    "interpreter_assistant.invoke({\"content\": \"What's 2 raised to 4\"})"
   ]
  },
  {
   "cell_type": "code",
   "execution_count": 9,
   "metadata": {},
   "outputs": [],
   "source": [
    "from langchain.tools import DuckDuckGoSearchRun\n",
    "\n",
    "tools = [DuckDuckGoSearchRun()]"
   ]
  },
  {
   "cell_type": "code",
   "execution_count": 10,
   "metadata": {},
   "outputs": [],
   "source": [
    "agent = OpenAIAssistantRunnable.create_assistant(\n",
    "    name=\"langchain assistant tool\",\n",
    "    instructions=\"You are a personal assistant. You can search the internet to answer user questions.\",\n",
    "    tools=tools,\n",
    "    model=\"gpt-4-1106-preview\",\n",
    "    as_agent=True,\n",
    ")"
   ]
  },
  {
   "cell_type": "code",
   "execution_count": 27,
   "metadata": {},
   "outputs": [],
   "source": [
    "from langchain.tools import DuckDuckGoSearchRun\n",
    "from langchain.agents.openai_assistant import OpenAIAssistantRunnable\n",
    "from langchain.agents import AgentExecutor\n",
    "\n",
    "def duck_agent(prompt):\n",
    "    tools = [DuckDuckGoSearchRun()]\n",
    "\n",
    "    agent = OpenAIAssistantRunnable.create_assistant(\n",
    "        name=\"langchain assistant tool\",\n",
    "        instructions=\"You are a personal assistant. You can search the internet to answer user questions.\",\n",
    "        tools=tools,\n",
    "        model=\"gpt-4-1106-preview\",\n",
    "        as_agent=True,\n",
    "    )\n",
    "\n",
    "    agent_executor = AgentExecutor(agent=agent, tools=tools)\n",
    "    response = agent_executor.invoke({\"content\": prompt})\n",
    "    return response[\"output\"]"
   ]
  },
  {
   "cell_type": "code",
   "execution_count": 28,
   "metadata": {},
   "outputs": [
    {
     "data": {
      "text/plain": [
       "\"The current weather in London is clear with a temperature of 6°C, which will change to partly cloudy by nighttime. Sunrise was at 07:35 and sunset will be at 16:00. Please note that weather conditions can change rapidly, and it's always a good idea to check a reliable weather service close to the time you need the information.\""
      ]
     },
     "execution_count": 28,
     "metadata": {},
     "output_type": "execute_result"
    }
   ],
   "source": [
    "duck_agent(\"weather in London right now?\")"
   ]
  }
 ],
 "metadata": {
  "kernelspec": {
   "display_name": "llm_utilities-HQ1bCkrd",
   "language": "python",
   "name": "python3"
  },
  "language_info": {
   "codemirror_mode": {
    "name": "ipython",
    "version": 3
   },
   "file_extension": ".py",
   "mimetype": "text/x-python",
   "name": "python",
   "nbconvert_exporter": "python",
   "pygments_lexer": "ipython3",
   "version": "3.11.5"
  }
 },
 "nbformat": 4,
 "nbformat_minor": 2
}
